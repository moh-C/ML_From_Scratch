{
 "cells": [
  {
   "cell_type": "markdown",
   "id": "e8fc160f-8c68-488c-8636-9300af08b9ec",
   "metadata": {},
   "source": [
    "## Loading the data"
   ]
  },
  {
   "cell_type": "code",
   "execution_count": null,
   "id": "a1883667-5b41-4ac0-b3b7-b2efc14eb2bf",
   "metadata": {},
   "outputs": [],
   "source": [
    "import torch\n",
    "from sklearn.datasets import load_breast_cancer\n",
    "import numpy as np\n",
    "import matplotlib.pyplot as plt\n",
    "import pandas as pd\n",
    "from sklearn.model_selection import train_test_split\n",
    "from sklearn.neighbors import KNeighborsClassifier\n",
    "from scipy.stats import mode\n",
    "import random\n",
    "\n",
    "# Load the breast cancer dataset\n",
    "cancer = load_breast_cancer()\n",
    "X_cancer = cancer['data']\n",
    "y_cancer = cancer['target']\n",
    "\n",
    "# Split the data into training and testing sets\n",
    "X_train, X_test, y_train, y_test = train_test_split(X_cancer, y_cancer, test_size=0.2, random_state=42)\n",
    "\n",
    "X_train_mu = np.mean(X_train, axis=0)\n",
    "X_train_std = np.std(X_train, axis=0)\n",
    "X_train_normalized = (X_train - X_train_mu) / X_train_std\n",
    "X_test_normalized = (X_test - X_train_mu ) / X_train_std"
   ]
  },
  {
   "cell_type": "markdown",
   "id": "1dd10336-a7de-4eac-971b-8d53a6eb4403",
   "metadata": {},
   "source": [
    "## Coding the class in PyTorch to use CUDA and evaluate the code on GPU, instead of CPU"
   ]
  },
  {
   "cell_type": "code",
   "execution_count": null,
   "id": "3396021a-6dff-42d2-9d92-bbb8f5fbfeb3",
   "metadata": {},
   "outputs": [],
   "source": [
    "class CudaKNNClassifier(torch.nn.Module):\n",
    "  def __init__(self, k=5):\n",
    "    super(CudaKNNClassifier, self).__init__()\n",
    "    self.k = k\n",
    "    self.X_train = None\n",
    "    self.y_train = None\n",
    "\n",
    "  def _validate_input(self, X, y=None):\n",
    "    if not isinstance(X, torch.Tensor):\n",
    "      raise ValueError(\"Input data must be a PyTorch tensor.\")\n",
    "    if y is not None and X.shape[0] != y.shape[0]:\n",
    "      raise ValueError(\"Number of samples in X and y must be equal.\")\n",
    "\n",
    "  def fit(self, X_train, y_train):\n",
    "    self._validate_input(X_train, y_train)\n",
    "    self.X_train = X_train.to(self.device)  # Move to device (CPU/GPU)\n",
    "    self.y_train = y_train.to(self.device)  # Move to device (CPU/GPU)\n",
    "\n",
    "  def predict(self, X_test):\n",
    "    self._validate_input(X_test, None)\n",
    "\n",
    "    # Ensure X_train and y_train are on the same device as X_test\n",
    "    if self.X_train.device != X_test.device:\n",
    "      self.X_train = self.X_train.to(X_test.device)\n",
    "      self.y_train = self.y_train.to(X_test.device)\n",
    "\n",
    "    # Distance calculation, neighbor finding, voting (same as before)\n",
    "    X_train_norm = self.X_train.unsqueeze(1)\n",
    "    X_test_norm = X_test.unsqueeze(0)\n",
    "    d_testTrain = torch.sqrt(torch.sum((X_train_norm - X_test_norm) ** 2, dim=2))\n",
    "    idxs = torch.argsort(d_testTrain, dim=1)\n",
    "\n",
    "    y_train_casted = self.y_train.repeat(X_test_norm.shape[0], 1)\n",
    "    y_train_sorted = torch.gather(y_train_casted, dim=1, index=idxs)\n",
    "    y_train_topK = y_train_sorted[:, :self.k]\n",
    "    y_test_pred = torch.mode(y_train_topK, dim=1)[0]\n",
    "\n",
    "    return y_test_pred\n",
    "\n",
    "  @property\n",
    "  def device(self):\n",
    "    return torch.device(\"cuda\" if torch.cuda.is_available() else \"cpu\")"
   ]
  },
  {
   "cell_type": "code",
   "execution_count": null,
   "id": "82f40c8e-b069-4792-8cd3-2fc6282a07b6",
   "metadata": {},
   "outputs": [],
   "source": [
    "# Example Usage\n",
    "cudaModelKNN = CudaKNNClassifier(k=5)\n",
    "cudaModelKNN.fit(X_train, y_train)\n",
    "y_pred = cudaModelKNN.predict(X_test)"
   ]
  },
  {
   "cell_type": "markdown",
   "id": "0e2f13e7-0088-4463-a97a-7b7edef6b29d",
   "metadata": {},
   "source": [
    "## Using for loop for each sample"
   ]
  },
  {
   "cell_type": "code",
   "execution_count": null,
   "id": "9cb24b62-e1ff-4df4-848b-f7afe7dbc707",
   "metadata": {},
   "outputs": [],
   "source": [
    "class MyKNN(torch.nn.Module):\n",
    "  def __init__(self, X_train, y_train, k=3):\n",
    "    super(MyKNN, self).__init__()\n",
    "    self.k = k\n",
    "    self.X_train = torch.tensor(X_train, dtype=torch.float).to(self.device)  # Move to device\n",
    "    self.y_train = torch.tensor(y_train, dtype=torch.long).to(self.device)  # Move to device\n",
    "\n",
    "  @property\n",
    "  def device(self):\n",
    "    return torch.device(\"cuda\" if torch.cuda.is_available() else \"cpu\")\n",
    "\n",
    "  def _euclidean_distance(self, X, sample):\n",
    "    \"\"\"\n",
    "    Compute the Euclidean distance between each row in X and a sample using PyTorch.\n",
    "\n",
    "    Args:\n",
    "      X: A torch.Tensor of shape (num_samples, feature_dim) representing the training data.\n",
    "      sample: A torch.Tensor of shape (feature_dim,) representing a single sample.\n",
    "\n",
    "    Returns:\n",
    "      A torch.Tensor of shape (num_samples,) containing the Euclidean distances between\n",
    "      each sample in X and the given sample.\n",
    "    \"\"\"\n",
    "    # Expand the sample to match the number of training samples (broadcasting)\n",
    "    sample = sample.unsqueeze(0)  # Shape (1, feature_dim)\n",
    "    # Calculate squared differences efficiently using broadcasting\n",
    "    squared_diff = torch.sum((X - sample) ** 2, dim=1)\n",
    "    # Return the square root of the sum of squared differences (Euclidean distance)\n",
    "    return torch.sqrt(squared_diff)\n",
    "\n",
    "  def predict_sample(self, sample, type='euclidean', n=None):\n",
    "    if type != 'euclidean':\n",
    "      raise ValueError(\"Only Euclidean distance is supported in PyTorch implementation.\")\n",
    "\n",
    "    # Calculate distances using the defined function\n",
    "    distances = self._euclidean_distance(self.X_train, sample)\n",
    "\n",
    "    # Rest of the prediction logic remains the same (sorting, finding neighbors, voting)\n",
    "    _, indices = torch.sort(distances, dim=0, descending=True)  # Sort by descending distance\n",
    "    y_train_sorted = self.y_train[indices]\n",
    "    y_train_neighbors = y_train_sorted[:self.k]\n",
    "    unique_labels, counts = torch.unique(y_train_neighbors, return_counts=True)\n",
    "    return unique_labels[torch.argmax(counts)]\n",
    "\n",
    "  def predict_dataset(self, dataset, type='euclidean', n=None):\n",
    "    # Convert dataset to PyTorch tensor and move to device\n",
    "    dataset_tensor = torch.tensor(dataset, dtype=torch.float).to(self.device)\n",
    "    # Call predict_sample on each sample in the dataset\n",
    "    predictions = torch.stack([self.predict_sample(x) for x in dataset_tensor])\n",
    "    return predictions.cpu().numpy()  # Convert back to NumPy array"
   ]
  },
  {
   "cell_type": "code",
   "execution_count": null,
   "id": "1eda448b-40aa-4ddf-be7f-c13cb5065452",
   "metadata": {},
   "outputs": [],
   "source": [
    "# Example Usage\n",
    "modelKNNLoop = MyKNN(X_train, y_train, k=3)\n",
    "y_pred = modelKNNLoop.predict_dataset(X_test)"
   ]
  },
  {
   "cell_type": "markdown",
   "id": "2bc87742-e578-461d-a668-e890a1132028",
   "metadata": {},
   "source": [
    "## Benchmarking"
   ]
  },
  {
   "cell_type": "code",
   "execution_count": null,
   "id": "6638018d-e27c-4c0c-867f-846459bde173",
   "metadata": {},
   "outputs": [],
   "source": [
    "k = 21\n",
    "X_rand = np.random.rand(5000, 300)\n",
    "y_rand = np.zeros((5000, 1))\n",
    "X_rand = np.divide(np.subtract(X_rand, X_rand.mean()), X_rand.std())\n",
    "X_rand_test = np.random.rand(1000, 300)\n",
    "\n",
    "# Example Usage Loop\n",
    "modelKNNLoop = MyKNN(X_rand, y_rand, k=k)\n",
    "y_pred = modelKNNLoop.predict_dataset(X_rand_test)\n",
    "\n",
    "# Example Usage CUDA\n",
    "cudaModelKNN = CudaKNNClassifier(k=k)\n",
    "cudaModelKNN.fit(y_rand, y_rand)\n",
    "y_pred = cudaModelKNN.predict(X_rand_test)"
   ]
  },
  {
   "cell_type": "code",
   "execution_count": null,
   "id": "ab86fa54-347f-4305-b09c-71f2d42231c8",
   "metadata": {},
   "outputs": [],
   "source": [
    "print(f\"KNNPredictor with for loop (k={k}): \")\n",
    "%timeit -n 1 modelKNNLoop.predict_dataset(X_rand_test)\n",
    "\n",
    "print(f\"cudaModel KNN (k={k}): \")\n",
    "%timeit -n 1 cudaModelKNN.predict(X_rand_test)"
   ]
  }
 ],
 "metadata": {
  "kernelspec": {
   "display_name": "Python 3 (ipykernel)",
   "language": "python",
   "name": "python3"
  },
  "language_info": {
   "codemirror_mode": {
    "name": "ipython",
    "version": 3
   },
   "file_extension": ".py",
   "mimetype": "text/x-python",
   "name": "python",
   "nbconvert_exporter": "python",
   "pygments_lexer": "ipython3",
   "version": "3.11.7"
  }
 },
 "nbformat": 4,
 "nbformat_minor": 5
}
