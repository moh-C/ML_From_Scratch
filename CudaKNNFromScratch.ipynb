{
  "cells": [
    {
      "cell_type": "markdown",
      "id": "e8fc160f-8c68-488c-8636-9300af08b9ec",
      "metadata": {
        "id": "e8fc160f-8c68-488c-8636-9300af08b9ec"
      },
      "source": [
        "## Loading the data"
      ]
    },
    {
      "cell_type": "code",
      "execution_count": 1,
      "id": "a1883667-5b41-4ac0-b3b7-b2efc14eb2bf",
      "metadata": {
        "id": "a1883667-5b41-4ac0-b3b7-b2efc14eb2bf"
      },
      "outputs": [],
      "source": [
        "import torch\n",
        "from sklearn.datasets import load_breast_cancer\n",
        "import numpy as np\n",
        "import matplotlib.pyplot as plt\n",
        "import pandas as pd\n",
        "from sklearn.model_selection import train_test_split\n",
        "from sklearn.neighbors import KNeighborsClassifier\n",
        "from scipy.stats import mode\n",
        "import random\n",
        "\n",
        "# Load the breast cancer dataset\n",
        "cancer = load_breast_cancer()\n",
        "X_cancer = cancer['data']\n",
        "y_cancer = cancer['target']\n",
        "\n",
        "# Split the data into training and testing sets\n",
        "X_train, X_test, y_train, y_test = train_test_split(X_cancer, y_cancer, test_size=0.2, random_state=42)\n",
        "\n",
        "X_train_mu = np.mean(X_train, axis=0)\n",
        "X_train_std = np.std(X_train, axis=0)\n",
        "X_train_normalized = (X_train - X_train_mu) / X_train_std\n",
        "X_test_normalized = (X_test - X_train_mu ) / X_train_std"
      ]
    },
    {
      "cell_type": "markdown",
      "id": "1dd10336-a7de-4eac-971b-8d53a6eb4403",
      "metadata": {
        "id": "1dd10336-a7de-4eac-971b-8d53a6eb4403"
      },
      "source": [
        "## Coding the class in PyTorch to use CUDA and evaluate the code on GPU, instead of CPU"
      ]
    },
    {
      "cell_type": "code",
      "execution_count": 2,
      "id": "3396021a-6dff-42d2-9d92-bbb8f5fbfeb3",
      "metadata": {
        "id": "3396021a-6dff-42d2-9d92-bbb8f5fbfeb3"
      },
      "outputs": [],
      "source": [
        "class CudaKNNClassifier(torch.nn.Module):\n",
        "    def __init__(self, k=5):\n",
        "        super(CudaKNNClassifier, self).__init__()\n",
        "        self.k = k\n",
        "        self.X_train = None\n",
        "        self.y_train = None\n",
        "\n",
        "    def _validate_input(self, X, y=None):\n",
        "        if not isinstance(X, torch.Tensor):\n",
        "            raise ValueError(\"Input data must be a PyTorch tensor.\")\n",
        "        if y is not None and X.shape[0] != y.shape[0]:\n",
        "            raise ValueError(\"Number of samples in X and y must be equal.\")\n",
        "\n",
        "    def fit(self, X_train, y_train):\n",
        "        self._validate_input(X_train, y_train)\n",
        "        self.X_train = X_train.to(self.device)  # Move to device (CPU/GPU)\n",
        "        self.y_train = y_train.to(self.device)  # Move to device (CPU/GPU)\n",
        "\n",
        "    def predict(self, X_test):\n",
        "        self._validate_input(X_test, None)\n",
        "\n",
        "        # Ensure X_train and y_train are on the same device as X_test\n",
        "        if self.X_train.device != X_test.device:\n",
        "            self.X_train = self.X_train.to(X_test.device)\n",
        "            self.y_train = self.y_train.to(X_test.device)\n",
        "\n",
        "        # Distance calculation, neighbor finding, voting\n",
        "        X_trainNew = self.X_train[None, :, :] - X_test[:, None, :]\n",
        "        d_testTrain = torch.sqrt(torch.sum(torch.pow(X_trainNew, 2), dim=2))\n",
        "        idxs = torch.argsort(d_testTrain, dim=1)\n",
        "\n",
        "        y_train_casted = self.y_train.repeat(X_trainNew.shape[0], 1)\n",
        "\n",
        "        y_train_sorted = torch.gather(y_train_casted, dim=1, index=idxs)\n",
        "        y_train_topK = y_train_sorted[:, :self.k]\n",
        "        y_test_pred = torch.mode(y_train_topK, dim=1)[0]\n",
        "\n",
        "        return y_test_pred\n",
        "\n",
        "    def _voting_func(self, arr):\n",
        "        return torch.mode(arr)[0]\n",
        "\n",
        "    @property\n",
        "    def device(self):\n",
        "        return torch.device(\"cuda\" if torch.cuda.is_available() else \"cpu\")"
      ]
    },
    {
      "cell_type": "code",
      "execution_count": 3,
      "id": "82f40c8e-b069-4792-8cd3-2fc6282a07b6",
      "metadata": {
        "colab": {
          "base_uri": "https://localhost:8080/"
        },
        "id": "82f40c8e-b069-4792-8cd3-2fc6282a07b6",
        "outputId": "26294e20-89fa-42d8-cf61-e2e77e044870"
      },
      "outputs": [
        {
          "output_type": "execute_result",
          "data": {
            "text/plain": [
              "0.9473684210526315"
            ]
          },
          "metadata": {},
          "execution_count": 3
        }
      ],
      "source": [
        "# Example Usage\n",
        "X_train = torch.tensor(X_train_normalized, dtype=torch.float)\n",
        "y_train = torch.tensor(y_train, dtype=torch.long)\n",
        "X_test = torch.tensor(X_test_normalized, dtype=torch.float)\n",
        "y_test = torch.tensor(y_test, dtype=torch.long)\n",
        "\n",
        "cudaModelKNN = CudaKNNClassifier(k=5)\n",
        "cudaModelKNN.fit(X_train, y_train)\n",
        "y_pred = cudaModelKNN.predict(X_test)\n",
        "np.mean(y_pred.cpu().numpy() == y_test.cpu().numpy())"
      ]
    },
    {
      "cell_type": "markdown",
      "id": "0e2f13e7-0088-4463-a97a-7b7edef6b29d",
      "metadata": {
        "id": "0e2f13e7-0088-4463-a97a-7b7edef6b29d"
      },
      "source": [
        "## Using for loop for each sample"
      ]
    },
    {
      "cell_type": "code",
      "execution_count": 4,
      "id": "9cb24b62-e1ff-4df4-848b-f7afe7dbc707",
      "metadata": {
        "id": "9cb24b62-e1ff-4df4-848b-f7afe7dbc707"
      },
      "outputs": [],
      "source": [
        "class MyKNN(torch.nn.Module):\n",
        "    def __init__(self, X_train, y_train, k=3):\n",
        "        super(MyKNN, self).__init__()\n",
        "        self.k = k\n",
        "        self.X_train = X_train.clone().detach().to(self.device, dtype=torch.float)\n",
        "        self.y_train = y_train.clone().detach().to(self.device, dtype=torch.long)\n",
        "\n",
        "    @property\n",
        "    def device(self):\n",
        "        return torch.device(\"cuda\" if torch.cuda.is_available() else \"cpu\")\n",
        "\n",
        "    def _euclidean_distance(self, X, sample):\n",
        "        sample = sample.unsqueeze(0)  # Shape (1, feature_dim)\n",
        "        squared_diff = torch.sum((X - sample) ** 2, dim=1)\n",
        "        return torch.sqrt(squared_diff)\n",
        "\n",
        "    def _validate_input(self, X, y=None):\n",
        "        if not isinstance(X, torch.Tensor):\n",
        "            raise ValueError(\"Input data must be a PyTorch tensor.\")\n",
        "        if y is not None and X.shape[0] != y.shape[0]:\n",
        "            raise ValueError(\"Number of samples in X and y must be equal.\")\n",
        "\n",
        "    def predict_sample(self, sample, type='euclidean', n=None):\n",
        "        if type != 'euclidean':\n",
        "            raise ValueError(\"Only Euclidean distance is supported in PyTorch implementation.\")\n",
        "\n",
        "        distances = self._euclidean_distance(self.X_train, sample)\n",
        "\n",
        "        _, indices = torch.sort(distances, dim=0, descending=True)  # Sort by descending distance\n",
        "        y_train_sorted = self.y_train[indices]\n",
        "        y_train_neighbors = y_train_sorted[:self.k]\n",
        "        unique_labels, counts = torch.unique(y_train_neighbors, return_counts=True)\n",
        "        return unique_labels[torch.argmax(counts)]\n",
        "\n",
        "    def predict_dataset(self, dataset, type='euclidean', n=None):\n",
        "        # Convert dataset to PyTorch tensor and move to device\n",
        "        dataset_tensor = dataset.clone().detach().to(device=self.device, dtype=torch.float)\n",
        "        # Call predict_sample on each sample in the dataset\n",
        "        predictions = torch.stack([self.predict_sample(x) for x in dataset_tensor])\n",
        "        return predictions.cpu().numpy()  # Convert back to NumPy array"
      ]
    },
    {
      "cell_type": "code",
      "execution_count": 5,
      "id": "1eda448b-40aa-4ddf-be7f-c13cb5065452",
      "metadata": {
        "id": "1eda448b-40aa-4ddf-be7f-c13cb5065452"
      },
      "outputs": [],
      "source": [
        "# Example Usage\n",
        "modelKNNLoop = MyKNN(X_train, y_train, k=3)\n",
        "y_pred = modelKNNLoop.predict_dataset(X_test)"
      ]
    },
    {
      "cell_type": "markdown",
      "id": "2bc87742-e578-461d-a668-e890a1132028",
      "metadata": {
        "id": "2bc87742-e578-461d-a668-e890a1132028"
      },
      "source": [
        "## Benchmarking"
      ]
    },
    {
      "cell_type": "code",
      "execution_count": 6,
      "id": "6638018d-e27c-4c0c-867f-846459bde173",
      "metadata": {
        "id": "6638018d-e27c-4c0c-867f-846459bde173"
      },
      "outputs": [],
      "source": [
        "k = 21\n",
        "features = 25\n",
        "train_samples = 800\n",
        "test_samples = 200\n",
        "\n",
        "X_train = torch.rand(train_samples, features)\n",
        "X_train = (X_train - torch.mean(X_train, dim=0)) / torch.std(X_train, dim=0)\n",
        "y_train = torch.zeros(train_samples, dtype=torch.long)\n",
        "\n",
        "X_test = torch.rand(test_samples, features)\n",
        "X_test = (X_test - torch.mean(X_test, dim=0)) / torch.std(X_test, dim=0)\n",
        "y_test = torch.zeros(test_samples, dtype=torch.long)\n",
        "\n",
        "# Example Usage Loop\n",
        "modelKNNLoop = MyKNN(X_train, y_train, k=k)\n",
        "y_pred = modelKNNLoop.predict_dataset(X_test)\n",
        "\n",
        "# Example Usage CUDA\n",
        "cudaModelKNN = CudaKNNClassifier(k=k)\n",
        "cudaModelKNN.fit(X_train, y_train)\n",
        "y_pred = cudaModelKNN.predict(X_test)"
      ]
    },
    {
      "cell_type": "code",
      "execution_count": 7,
      "id": "ab86fa54-347f-4305-b09c-71f2d42231c8",
      "metadata": {
        "colab": {
          "base_uri": "https://localhost:8080/"
        },
        "id": "ab86fa54-347f-4305-b09c-71f2d42231c8",
        "outputId": "82e576fd-d018-4d54-a760-ad00f207d34f"
      },
      "outputs": [
        {
          "output_type": "stream",
          "name": "stdout",
          "text": [
            "KNNPredictor with for loop (k=21): \n",
            "102 ms ± 23.5 ms per loop (mean ± std. dev. of 7 runs, 10 loops each)\n",
            "cudaModel KNN (k=21): \n",
            "41 ms ± 3.83 ms per loop (mean ± std. dev. of 7 runs, 10 loops each)\n"
          ]
        }
      ],
      "source": [
        "print(f\"KNNPredictor with for loop (k={k}): \")\n",
        "%timeit -n 10 modelKNNLoop.predict_dataset(X_test)\n",
        "\n",
        "print(f\"cudaModel KNN (k={k}): \")\n",
        "%timeit -n 10 cudaModelKNN.predict(X_test)"
      ]
    },
    {
      "cell_type": "markdown",
      "source": [
        "#### And with a lower k:"
      ],
      "metadata": {
        "id": "7mkinHw64qXW"
      },
      "id": "7mkinHw64qXW"
    },
    {
      "cell_type": "code",
      "source": [
        "k = 3\n",
        "# Example Usage Loop\n",
        "modelKNNLoop = MyKNN(X_train, y_train, k=k)\n",
        "y_pred = modelKNNLoop.predict_dataset(X_test)\n",
        "\n",
        "# Example Usage CUDA\n",
        "cudaModelKNN = CudaKNNClassifier(k=k)\n",
        "cudaModelKNN.fit(X_train, y_train)\n",
        "y_pred = cudaModelKNN.predict(X_test)"
      ],
      "metadata": {
        "id": "1XBtyhAAkDxp"
      },
      "id": "1XBtyhAAkDxp",
      "execution_count": 8,
      "outputs": []
    },
    {
      "cell_type": "code",
      "source": [
        "print(f\"KNNPredictor with for loop (k={k}): \")\n",
        "%timeit -n 10 modelKNNLoop.predict_dataset(X_test)\n",
        "\n",
        "print(f\"cudaModel KNN (k={k}): \")\n",
        "%timeit -n 10 cudaModelKNN.predict(X_test)"
      ],
      "metadata": {
        "colab": {
          "base_uri": "https://localhost:8080/"
        },
        "id": "zv6CXlEVkHqP",
        "outputId": "55aa6942-6275-4255-c890-36ff968bcf25"
      },
      "id": "zv6CXlEVkHqP",
      "execution_count": 9,
      "outputs": [
        {
          "output_type": "stream",
          "name": "stdout",
          "text": [
            "KNNPredictor with for loop (k=3): \n",
            "54.6 ms ± 6.14 ms per loop (mean ± std. dev. of 7 runs, 10 loops each)\n",
            "cudaModel KNN (k=3): \n",
            "28.7 ms ± 779 µs per loop (mean ± std. dev. of 7 runs, 10 loops each)\n"
          ]
        }
      ]
    },
    {
      "cell_type": "markdown",
      "source": [
        "#### And with a k=1"
      ],
      "metadata": {
        "id": "ABGuzaOo-YyU"
      },
      "id": "ABGuzaOo-YyU"
    },
    {
      "cell_type": "code",
      "source": [
        "k = 1\n",
        "# Example Usage Loop\n",
        "modelKNNLoop = MyKNN(X_train, y_train, k=k)\n",
        "y_pred = modelKNNLoop.predict_dataset(X_test)\n",
        "\n",
        "# Example Usage CUDA\n",
        "cudaModelKNN = CudaKNNClassifier(k=k)\n",
        "cudaModelKNN.fit(X_train, y_train)\n",
        "y_pred = cudaModelKNN.predict(X_test)"
      ],
      "metadata": {
        "id": "MVn3byo6-Vuc"
      },
      "id": "MVn3byo6-Vuc",
      "execution_count": 10,
      "outputs": []
    },
    {
      "cell_type": "code",
      "source": [
        "print(f\"KNNPredictor with for loop (k={k}): \")\n",
        "%timeit -n 10 modelKNNLoop.predict_dataset(X_test)\n",
        "\n",
        "print(f\"cudaModel KNN (k={k}): \")\n",
        "%timeit -n 10 cudaModelKNN.predict(X_test)"
      ],
      "metadata": {
        "colab": {
          "base_uri": "https://localhost:8080/"
        },
        "id": "N1pQbJkr-XAY",
        "outputId": "c0b53c82-8e1c-4c6f-e50a-ea836077d01a"
      },
      "id": "N1pQbJkr-XAY",
      "execution_count": 11,
      "outputs": [
        {
          "output_type": "stream",
          "name": "stdout",
          "text": [
            "KNNPredictor with for loop (k=1): \n",
            "52.5 ms ± 4.16 ms per loop (mean ± std. dev. of 7 runs, 10 loops each)\n",
            "cudaModel KNN (k=1): \n",
            "39.1 ms ± 5.5 ms per loop (mean ± std. dev. of 7 runs, 10 loops each)\n"
          ]
        }
      ]
    }
  ],
  "metadata": {
    "kernelspec": {
      "display_name": "Python 3",
      "name": "python3"
    },
    "language_info": {
      "codemirror_mode": {
        "name": "ipython",
        "version": 3
      },
      "file_extension": ".py",
      "mimetype": "text/x-python",
      "name": "python",
      "nbconvert_exporter": "python",
      "pygments_lexer": "ipython3",
      "version": "3.11.7"
    },
    "colab": {
      "provenance": [],
      "gpuType": "T4"
    },
    "accelerator": "GPU"
  },
  "nbformat": 4,
  "nbformat_minor": 5
}