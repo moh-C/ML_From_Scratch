{
 "cells": [
  {
   "cell_type": "markdown",
   "id": "018b626d-5cd4-4745-9d6c-5aaa57aa313e",
   "metadata": {},
   "source": [
    "# K-Nearest Neighbours (KNN) from scratch!"
   ]
  },
  {
   "cell_type": "markdown",
   "id": "014b8f51-9a0d-4445-8bb7-ad957db7cf59",
   "metadata": {},
   "source": [
    "Given:\n",
    "    \n",
    "    X: a numpy array of shape mxn, m being the number of rows and n being the number of features\n",
    "    Y: Y of shape mx1 (which is not needed for PCA"
   ]
  },
  {
   "cell_type": "code",
   "execution_count": 1,
   "id": "c689a654-a090-4181-9adf-2df497813481",
   "metadata": {},
   "outputs": [],
   "source": [
    "from sklearn.datasets import load_breast_cancer\n",
    "import numpy as np\n",
    "import matplotlib.pyplot as plt\n",
    "import pandas as pd\n",
    "from sklearn.model_selection import train_test_split\n",
    "from sklearn.neighbors import KNeighborsClassifier\n",
    "from scipy.stats import mode\n",
    "import random\n",
    "\n",
    "# Load the breast cancer dataset\n",
    "cancer = load_breast_cancer()\n",
    "X_cancer = cancer['data']\n",
    "y_cancer = cancer['target']\n",
    "\n",
    "# Split the data into training and testing sets\n",
    "X_train, X_test, y_train, y_test = train_test_split(X_cancer, y_cancer, test_size=0.2, random_state=42)\n",
    "\n",
    "X_train_mu = np.mean(X_train, axis=0)\n",
    "X_train_std = np.std(X_train, axis=0)\n",
    "X_train_normalized = (X_train - X_train_mu) / X_train_std\n",
    "X_test_normalized = (X_test - X_train_mu ) / X_train_std"
   ]
  },
  {
   "cell_type": "markdown",
   "id": "0bd9b471-e053-4eed-a8e0-79ffcd9e4793",
   "metadata": {},
   "source": [
    "### First, we have to calculate the distance between the data point and each data point in our training corpus.\n",
    "### There are multiple distance measures:\n",
    "\n",
    "#### Euclidean:\n",
    "$$\n",
    "d(p,q) = \\sqrt{\\sum_{i=1}^{n}{(q_i - p_i)^2}}\n",
    "$$"
   ]
  },
  {
   "cell_type": "code",
   "execution_count": 2,
   "id": "5a4c953c-47ed-425a-8f66-49fb5b3b6867",
   "metadata": {},
   "outputs": [],
   "source": [
    "def euclidean_0(p, q):\n",
    "    # p and q are both of shape 1, n\n",
    "    total = 0\n",
    "    for i in range(len(p)):\n",
    "        total += (p[i] - q[i]) ** 2\n",
    "    return total\n",
    "\n",
    "def euclidean_1(p, q):\n",
    "    # p and q are both of shape 1, n\n",
    "    p, q = np.array(p), np.array(q)\n",
    "    return np.sqrt(np.sum((p - q) ** 2))\n",
    "\n",
    "def euclidean_2(X, q):\n",
    "    # X is of shape m, n and q is of shape 1, n\n",
    "    if X.ndim > 2:\n",
    "        raise ValueError(\"X has more than 2 dimensions.\")\n",
    "    q = q.reshape(1, -1)\n",
    "    m, n = X.shape\n",
    "    Q = np.repeat(q, m, axis=0) # now has shape m, n; works even without this line\n",
    "    dist = np.sqrt(np.sum((X - Q) ** 2, axis=1))\n",
    "    return dist.reshape(-1, 1) # returns shape m, 1\n",
    "\n",
    "def euclidean_3(X, q):\n",
    "    \"\"\"\n",
    "    Compute the Euclidean distance between each row of a 2-D array and a 1-D point.\n",
    "    \n",
    "    Parameters:\n",
    "    X : 2-D array of shape (m, n)\n",
    "    q : 1-D array of shape (n,)\n",
    "    \n",
    "    Returns:\n",
    "    dist : 1-D array of shape (m,)\n",
    "        The Euclidean distance between each row of X and q.\n",
    "    \"\"\"\n",
    "    if X.ndim > 2:\n",
    "        raise ValueError(\"X has more than 2 dimensions.\")\n",
    "    return np.sqrt(np.sum((X - q) ** 2, axis=1))"
   ]
  },
  {
   "cell_type": "code",
   "execution_count": 3,
   "id": "f3948556-0a32-420a-a36f-0717e829ef5c",
   "metadata": {},
   "outputs": [
    {
     "name": "stdout",
     "output_type": "stream",
     "text": [
      "Testing euclidean_0...\n",
      "28.1 ms ± 4.71 ms per loop (mean ± std. dev. of 7 runs, 100 loops each)\n",
      "\n",
      "Testing euclidean_1...\n",
      "8.85 ms ± 463 µs per loop (mean ± std. dev. of 7 runs, 100 loops each)\n",
      "\n",
      "Testing euclidean_2...\n",
      "103 µs ± 4.16 µs per loop (mean ± std. dev. of 7 runs, 100 loops each)\n",
      "\n",
      "Testing euclidean_3...\n",
      "98.9 µs ± 1.48 µs per loop (mean ± std. dev. of 7 runs, 100 loops each)\n"
     ]
    }
   ],
   "source": [
    "# Define test data\n",
    "p = np.random.rand(50)\n",
    "q = np.random.rand(50)\n",
    "X = np.random.rand(1000, 50)\n",
    "\n",
    "# Test euclidean_0\n",
    "print(\"Testing euclidean_0...\")\n",
    "%timeit -n 100 [euclidean_0(x, q) for x in X]\n",
    "\n",
    "# Test euclidean_1\n",
    "print(\"\\nTesting euclidean_1...\")\n",
    "%timeit -n 100 [euclidean_1(x, q) for x in X]\n",
    "\n",
    "# Test euclidean_2\n",
    "print(\"\\nTesting euclidean_2...\")\n",
    "%timeit -n 100 euclidean_2(X, q)\n",
    "\n",
    "# Test euclidean_3\n",
    "print(\"\\nTesting euclidean_3...\")\n",
    "%timeit -n 100 euclidean_3(X, q)"
   ]
  },
  {
   "cell_type": "markdown",
   "id": "5cde5cd3-324f-4bc4-bb7c-9c343b8e511c",
   "metadata": {},
   "source": [
    "#### Manhattan:\n",
    "$$\n",
    "d(p,q) = \\sum_{i=1}^{n}{|p_i - q_i|}\n",
    "$$"
   ]
  },
  {
   "cell_type": "code",
   "execution_count": 4,
   "id": "18a03b27-7317-4773-87f4-4aba1c56143c",
   "metadata": {},
   "outputs": [],
   "source": [
    "def manhattan_0(p, q):\n",
    "    total = 0\n",
    "    for i in range(len(p)):\n",
    "        total += abs(p[i] - q[i])\n",
    "    return total\n",
    "\n",
    "def manhattan_1(p, q):\n",
    "    p, q = np.array(p), np.array(q)\n",
    "    return np.sum(np.abs(p - q))\n",
    "\n",
    "def manhattan_2(X, q):\n",
    "    if X.ndim > 2:\n",
    "        raise ValueError(\"X has more than 2 dimensions.\")\n",
    "    m, n = X.shape\n",
    "    q = q.reshape(1, -1)\n",
    "    Q = np.repeat(q, m, axis=0)\n",
    "    dist = np.sum(np.abs(X - Q), axis=1)\n",
    "    return dist.reshape(-1, 1)\n",
    "\n",
    "def manhattan_3(X, q):\n",
    "    \"\"\"\n",
    "    Compute the Manhattan distance between each row of a 2-D array and a 1-D point.\n",
    "    \n",
    "    Parameters:\n",
    "    X : 2-D array of shape (m, n)\n",
    "    q : 1-D array of shape (n,)\n",
    "    \n",
    "    Returns:\n",
    "    dist : 1-D array of shape (m,)\n",
    "        The Manhattan distance between each row of X and q.\n",
    "    \"\"\"\n",
    "    if X.ndim > 2:\n",
    "        raise ValueError(\"X has more than 2 dimensions.\")\n",
    "    return np.sum(np.abs(X - q), axis=1)"
   ]
  },
  {
   "cell_type": "code",
   "execution_count": 5,
   "id": "c76dfc08-928c-4ab4-892d-5838256cda51",
   "metadata": {},
   "outputs": [
    {
     "name": "stdout",
     "output_type": "stream",
     "text": [
      "Testing manhattan_0...\n",
      "20.9 ms ± 482 µs per loop (mean ± std. dev. of 7 runs, 100 loops each)\n",
      "\n",
      "Testing manhattan_1...\n",
      "8.52 ms ± 2.15 ms per loop (mean ± std. dev. of 7 runs, 100 loops each)\n",
      "\n",
      "Testing manhattan_2...\n",
      "102 µs ± 4.77 µs per loop (mean ± std. dev. of 7 runs, 100 loops each)\n",
      "\n",
      "Testing manhattan_3...\n",
      "96.1 µs ± 1.18 µs per loop (mean ± std. dev. of 7 runs, 100 loops each)\n"
     ]
    }
   ],
   "source": [
    "# Test manhattan_0\n",
    "print(\"Testing manhattan_0...\")\n",
    "%timeit -n 100 [manhattan_0(x, q) for x in X]\n",
    "\n",
    "# Test manhattan_1\n",
    "print(\"\\nTesting manhattan_1...\")\n",
    "%timeit -n 100 [manhattan_1(x, q) for x in X]\n",
    "\n",
    "# Test manhattan_2\n",
    "print(\"\\nTesting manhattan_2...\")\n",
    "%timeit -n 100 manhattan_2(X, q)\n",
    "\n",
    "# Test manhattan_3\n",
    "print(\"\\nTesting manhattan_3...\")\n",
    "%timeit -n 100 manhattan_3(X, q)"
   ]
  },
  {
   "cell_type": "markdown",
   "id": "e5d67ba8-2aa3-40c9-b0f1-f9b883455194",
   "metadata": {},
   "source": [
    "#### Minkowski:\n",
    "$$\n",
    "d(p,q) = (\\sum_{i=1}^{n}{(q_i - p_i)^n})^\\frac{1}{n}\n",
    "$$"
   ]
  },
  {
   "cell_type": "code",
   "execution_count": 6,
   "id": "e40eb650-6f3d-45bf-b973-52df75b1622b",
   "metadata": {},
   "outputs": [],
   "source": [
    "def minkowski_0(p, q, n):\n",
    "    total = 0.0\n",
    "    for i in range(len(p)):\n",
    "        total += (p[i] - q[i]) ** n\n",
    "    return total ** (1 / n)\n",
    "\n",
    "def minkowski_1(p, q, n):\n",
    "    p, q = np.array(p), np.array(q)\n",
    "    return np.power(np.sum(np.power(p - q, n)), 1/n)\n",
    "\n",
    "def minkowski_2(X, q, n):\n",
    "    if X.ndim > 2:\n",
    "        raise ValueError(\"X has more than 2 dimensions.\")\n",
    "    m, _ = X.shape\n",
    "    q = q.reshape(1, -1)\n",
    "    Q = np.repeat(q, m, axis=0)\n",
    "    dist = np.sum(np.power(X - Q, n), axis=1)\n",
    "    return np.power(dist, 1/n).reshape(-1, 1)\n",
    "\n",
    "def minkowski_3(X, q, n):\n",
    "    \"\"\"\n",
    "    Compute the Minkowski distance between each row of a 2-D array and a 1-D point.\n",
    "    \n",
    "    Parameters:\n",
    "    X : 2-D array of shape (m, n)\n",
    "    q : 1-D array of shape (n,)\n",
    "    n : Minkowski_n\n",
    "    \n",
    "    Returns:\n",
    "    dist : 1-D array of shape (m,)\n",
    "        The Minkowski_n distance between each row of X and q.\n",
    "    \"\"\"\n",
    "    if X.ndim > 2:\n",
    "        raise ValueError(\"X has more than 2 dimensions.\")\n",
    "    return np.power(np.sum(np.power((X - q), n), axis=1), 1/n)"
   ]
  },
  {
   "cell_type": "code",
   "execution_count": 7,
   "id": "086ebc13-fe60-4a9f-91f8-2425a94226c2",
   "metadata": {},
   "outputs": [
    {
     "name": "stdout",
     "output_type": "stream",
     "text": [
      "Testing minkowski_0...\n"
     ]
    },
    {
     "name": "stderr",
     "output_type": "stream",
     "text": [
      "C:\\Users\\moham\\AppData\\Local\\Temp\\ipykernel_15780\\3387198962.py:5: RuntimeWarning: invalid value encountered in scalar power\n",
      "  return total ** (1 / n)\n"
     ]
    },
    {
     "name": "stdout",
     "output_type": "stream",
     "text": [
      "23.6 ms ± 547 µs per loop (mean ± std. dev. of 7 runs, 100 loops each)\n",
      "\n",
      "Testing minkowski_1...\n"
     ]
    },
    {
     "name": "stderr",
     "output_type": "stream",
     "text": [
      "C:\\Users\\moham\\AppData\\Local\\Temp\\ipykernel_15780\\3387198962.py:9: RuntimeWarning: invalid value encountered in power\n",
      "  return np.power(np.sum(np.power(p - q, n)), 1/n)\n"
     ]
    },
    {
     "name": "stdout",
     "output_type": "stream",
     "text": [
      "14.6 ms ± 313 µs per loop (mean ± std. dev. of 7 runs, 100 loops each)\n",
      "\n",
      "Testing minkowski_2...\n"
     ]
    },
    {
     "name": "stderr",
     "output_type": "stream",
     "text": [
      "C:\\Users\\moham\\AppData\\Local\\Temp\\ipykernel_15780\\3387198962.py:18: RuntimeWarning: invalid value encountered in power\n",
      "  return np.power(dist, 1/n).reshape(-1, 1)\n"
     ]
    },
    {
     "name": "stdout",
     "output_type": "stream",
     "text": [
      "2.7 ms ± 250 µs per loop (mean ± std. dev. of 7 runs, 100 loops each)\n",
      "\n",
      "Testing minkowski_3...\n"
     ]
    },
    {
     "name": "stderr",
     "output_type": "stream",
     "text": [
      "C:\\Users\\moham\\AppData\\Local\\Temp\\ipykernel_15780\\3387198962.py:35: RuntimeWarning: invalid value encountered in power\n",
      "  return np.power(np.sum(np.power((X - q), n), axis=1), 1/n)\n"
     ]
    },
    {
     "name": "stdout",
     "output_type": "stream",
     "text": [
      "2.46 ms ± 330 µs per loop (mean ± std. dev. of 7 runs, 100 loops each)\n"
     ]
    }
   ],
   "source": [
    "n = 5\n",
    "# Test minkowski_0\n",
    "print(\"Testing minkowski_0...\")\n",
    "%timeit -n 100 [minkowski_0(x, q, n) for x in X]\n",
    "\n",
    "# Test minkowski_1\n",
    "print(\"\\nTesting minkowski_1...\")\n",
    "%timeit -n 100 [minkowski_1(x, q, n) for x in X]\n",
    "\n",
    "# Test minkowski_2\n",
    "print(\"\\nTesting minkowski_2...\")\n",
    "%timeit -n 100 minkowski_2(X, q, n)\n",
    "\n",
    "# Test minkowski_3\n",
    "print(\"\\nTesting minkowski_3...\")\n",
    "%timeit -n 100 minkowski_3(X, q, n)"
   ]
  },
  {
   "cell_type": "markdown",
   "id": "d227d6ad-d5c6-40cb-8ab4-931fe35f8e3c",
   "metadata": {},
   "source": [
    "## Getting the top K neighbours"
   ]
  },
  {
   "cell_type": "code",
   "execution_count": 8,
   "id": "76c52c0c-0c40-4972-b150-6ccbf98af554",
   "metadata": {},
   "outputs": [
    {
     "data": {
      "text/plain": [
       "(array([0, 1]), array([2, 1], dtype=int64))"
      ]
     },
     "execution_count": 8,
     "metadata": {},
     "output_type": "execute_result"
    }
   ],
   "source": [
    "k = 3 # for KNN\n",
    "idx = 18\n",
    "sample = X_test_normalized[idx]\n",
    "\n",
    "\n",
    "distance_sample = euclidean_3(X_train_normalized, sample)\n",
    "_idx = np.argsort(-distance_sample)\n",
    "y_train_sorted = y_train[_idx]\n",
    "y_train_neighbours = y_train_sorted[:k]\n",
    "\n",
    "unique_labels, counts = np.unique(y_train_neighbours, return_counts=True)\n",
    "unique_labels, counts"
   ]
  },
  {
   "cell_type": "code",
   "execution_count": 9,
   "id": "bc05e7da-0d5a-45a5-a51b-2970a4e653eb",
   "metadata": {},
   "outputs": [
    {
     "data": {
      "text/plain": [
       "(0, 1)"
      ]
     },
     "execution_count": 9,
     "metadata": {},
     "output_type": "execute_result"
    }
   ],
   "source": [
    "most_common_label = unique_labels[np.argmax(counts)]\n",
    "most_common_label, y_test[idx]"
   ]
  },
  {
   "cell_type": "markdown",
   "id": "0d37d275-ec29-4c6b-9ff9-3bc612eee9c6",
   "metadata": {},
   "source": [
    "## Implementing MyKNN class from scratch"
   ]
  },
  {
   "cell_type": "code",
   "execution_count": 10,
   "id": "fcbeca47-3143-4af1-8916-3f4e1259ab17",
   "metadata": {},
   "outputs": [],
   "source": [
    "class MyKNN():\n",
    "    def __init__(self, X_train, y_train, k=3):\n",
    "        self.k = k\n",
    "        self.X_train = X_train\n",
    "        self.y_train = y_train\n",
    "        self.distances = None\n",
    "        \n",
    "    def get_distance(self, X, sample, type='euclidean', n=None):\n",
    "        if type == 'euclidean':\n",
    "            self.distances = self._euclidean(X, sample)\n",
    "        elif type == 'minkowski':\n",
    "            if n == None:\n",
    "                raise ValueError(\"n cannot be None. Need to input a correct n\")\n",
    "            self.distances = self._minkowski(X, sample, n)\n",
    "        elif type == 'manhattan':\n",
    "            self.distances = self._manhattan(X, sample)\n",
    "        else:\n",
    "            raise ValueError('This distance measure has not been implemented yet')\n",
    "        \n",
    "    def _euclidean(self, X, sample):\n",
    "        \"\"\"\n",
    "        Compute the Euclidean distance between each row of a 2-D array and a 1-D point.\n",
    "        \n",
    "        Parameters:\n",
    "        X : 2-D array of shape (m, n)\n",
    "        q : 1-D array of shape (n,)\n",
    "        \n",
    "        Returns:\n",
    "        dist : 1-D array of shape (m,)\n",
    "            The Euclidean distance between each row of X and q.\n",
    "        \"\"\"\n",
    "        if X.ndim > 2:\n",
    "            raise ValueError(\"X has more than 2 dimensions.\")\n",
    "        return np.sqrt(np.sum((X - sample) ** 2, axis=1))\n",
    "        \n",
    "    def _minkowski(self, X, sample, n):\n",
    "        \"\"\"\n",
    "        Compute the Minkowski distance between each row of a 2-D array and a 1-D point.\n",
    "        \n",
    "        Parameters:\n",
    "        X : 2-D array of shape (m, n)\n",
    "        q : 1-D array of shape (n,)\n",
    "        n : Minkowski_n\n",
    "        \n",
    "        Returns:\n",
    "        dist : 1-D array of shape (m,)\n",
    "            The Minkowski_n distance between each row of X and q.\n",
    "        \"\"\"\n",
    "        if X.ndim > 2:\n",
    "            raise ValueError(\"X has more than 2 dimensions.\")\n",
    "        return np.power(\n",
    "            np.sum(\n",
    "                np.power(\n",
    "                    (X - q), n), axis=1\n",
    "            ), 1/n\n",
    "        )\n",
    "        \n",
    "    def _manhattan(self, X, sample):\n",
    "        \"\"\"\n",
    "        Compute the Manhattan distance between each row of a 2-D array and a 1-D point.\n",
    "        \n",
    "        Parameters:\n",
    "        X : 2-D array of shape (m, n)\n",
    "        q : 1-D array of shape (n,)\n",
    "        \n",
    "        Returns:\n",
    "        dist : 1-D array of shape (m,)\n",
    "            The Manhattan distance between each row of X and q.\n",
    "        \"\"\"\n",
    "        if X.ndim > 2:\n",
    "            raise ValueError(\"X has more than 2 dimensions.\")\n",
    "        return np.sum(np.abs(X - sample), axis=1)\n",
    "\n",
    "    def predict_sample(self, sample, type='euclidean', n=None):\n",
    "        self.get_distance(self.X_train, sample, type=type, n=n)\n",
    "        _idx = np.argsort(self.distances)\n",
    "        y_train_sorted = self.y_train[_idx]\n",
    "        y_train_neighbours = y_train_sorted[:self.k]\n",
    "        unique_labels, counts = np.unique(y_train_neighbours, return_counts=True)\n",
    "        return unique_labels[np.argmax(counts)]\n",
    "        \n",
    "    def predict_dataset(self, dataset, type='euclidean', n=None):\n",
    "        return np.array([\n",
    "            self.predict_sample(x, type=type, n=n) for x in dataset\n",
    "        ])"
   ]
  },
  {
   "cell_type": "code",
   "execution_count": 11,
   "id": "7c0b84fb-8d5c-4007-8fe1-f316b1b0ea67",
   "metadata": {},
   "outputs": [
    {
     "name": "stdout",
     "output_type": "stream",
     "text": [
      "Accuracy is: 0.9473684210526315\n"
     ]
    }
   ],
   "source": [
    "KNNPredictor = MyKNN(\n",
    "    X_train=X_train_normalized,\n",
    "    y_train=y_train,\n",
    "    k=3\n",
    ")\n",
    "y_pred = KNNPredictor.predict_dataset(X_test_normalized)\n",
    "accuracy = np.mean(y_pred == y_test)\n",
    "print(f\"Accuracy is: {accuracy}\")"
   ]
  },
  {
   "cell_type": "markdown",
   "id": "f077c183-7ae8-493f-a614-681a82f73bcc",
   "metadata": {},
   "source": [
    "### Testing the Elbow"
   ]
  },
  {
   "cell_type": "code",
   "execution_count": 12,
   "id": "236e3b66-b4ae-4ddb-b85b-cfb48176a3e5",
   "metadata": {},
   "outputs": [],
   "source": [
    "accuracies = []\n",
    "k_range = range(1, 20)\n",
    "for k in k_range:\n",
    "    KNNPredictor = MyKNN(\n",
    "        X_train=X_train_normalized,\n",
    "        y_train=y_train,\n",
    "        k=k\n",
    "    )\n",
    "    y_pred = KNNPredictor.predict_dataset(X_test_normalized)\n",
    "    accuracy = np.mean(y_pred == y_test)\n",
    "    accuracies.append(accuracy)"
   ]
  },
  {
   "cell_type": "code",
   "execution_count": 13,
   "id": "d168411c-fa81-40f5-a58c-c240a889c0c7",
   "metadata": {},
   "outputs": [
    {
     "data": {
      "image/png": "[encoded data removed]",
      "text/plain": [
       "<Figure size 1000x600 with 1 Axes>"
      ]
     },
     "metadata": {},
     "output_type": "display_data"
    }
   ],
   "source": [
    "# Plotting code...\n",
    "plt.figure(figsize=(10, 6))\n",
    "plt.plot(k_range, accuracies, marker='o')\n",
    "plt.title('Accuracy vs. k for KNN')\n",
    "plt.xlabel('k')\n",
    "plt.ylabel('Accuracy')\n",
    "plt.xticks(k_range)\n",
    "plt.grid(True)\n",
    "plt.show()"
   ]
  },
  {
   "cell_type": "markdown",
   "id": "bf22d28e-4bcc-446c-bd32-d319d2361cc4",
   "metadata": {},
   "source": [
    "### Comparing against Sklearn's values"
   ]
  },
  {
   "cell_type": "code",
   "execution_count": 14,
   "id": "d84d6d3a-4640-4bb8-b501-f09e4bca37a6",
   "metadata": {},
   "outputs": [
    {
     "data": {
      "image/png": "[encoded data removed]",
      "text/plain": [
       "<Figure size 1000x600 with 1 Axes>"
      ]
     },
     "metadata": {},
     "output_type": "display_data"
    }
   ],
   "source": [
    "# Initialize the accuracies list\n",
    "accuracies = []\n",
    "\n",
    "# Range of k values to test\n",
    "k_range = range(1, 20)\n",
    "\n",
    "for k in k_range:\n",
    "    # Create a KNeighborsClassifier instance with the current k value\n",
    "    knn = KNeighborsClassifier(n_neighbors=k)\n",
    "    \n",
    "    # Fit the classifier to the training data\n",
    "    knn.fit(X_train_normalized, y_train)\n",
    "    \n",
    "    # Predict the labels for the test data\n",
    "    y_pred = knn.predict(X_test_normalized)\n",
    "    \n",
    "    # Compute the accuracy and append it to the accuracies list\n",
    "    accuracy = np.mean(y_pred == y_test)\n",
    "    accuracies.append(accuracy)\n",
    "\n",
    "# Plot accuracy vs. k\n",
    "plt.figure(figsize=(10, 6))\n",
    "plt.plot(k_range, accuracies, marker='o')\n",
    "plt.title('Accuracy vs. k for KNN (sklearn)')\n",
    "plt.xlabel('k')\n",
    "plt.ylabel('Accuracy')\n",
    "plt.xticks(k_range)  # Set x-axis ticks to natural numbers\n",
    "plt.grid(True)\n",
    "plt.show()"
   ]
  },
  {
   "cell_type": "markdown",
   "id": "5a3f2c4a-a8b2-424e-9b5f-b9e02f9f0545",
   "metadata": {},
   "source": [
    "## Adding another dimension to the X train vector to vectorize the whole thing"
   ]
  },
  {
   "cell_type": "markdown",
   "id": "398e0754-b4b0-40e3-8417-47ae215e5ee7",
   "metadata": {},
   "source": [
    "We have a couple of vectors:\n",
    "\n",
    "##### t = number of test samples\n",
    "##### n = number of test features\n",
    "##### m = number of train samples\n",
    "\n",
    "$$\n",
    "X_{test} = t \\times n\n",
    "$$\n",
    "\n",
    "$$\n",
    "X_{train} = m \\times n\n",
    "$$\n",
    "\n",
    "$$\n",
    "X_{trainNew} = t \\times m \\times n\n",
    "$$\n",
    "\n",
    "$$\n",
    "d_{testTrain} = t \\times m \\times 1\n",
    "$$\n",
    "\n",
    "$$\n",
    "d_{topK} = t \\times k \\times 1\n",
    "$$\n",
    "\n",
    "$$\n",
    "y_{pred} = t \\times 1\n",
    "$$"
   ]
  },
  {
   "cell_type": "code",
   "execution_count": 15,
   "id": "50caa86f-1cef-4079-90d2-ee758b417c11",
   "metadata": {},
   "outputs": [
    {
     "data": {
      "text/plain": [
       "0.9473684210526315"
      ]
     },
     "execution_count": 15,
     "metadata": {},
     "output_type": "execute_result"
    }
   ],
   "source": [
    "k = 5\n",
    "X_trainNew = X_train_normalized[np.newaxis, :, :] - X_test_normalized[:, np.newaxis, :]\n",
    "d_testTrain = np.sqrt(np.sum(np.power(X_trainNew, 2), axis=2))\n",
    "\n",
    "idxs = np.argsort(d_testTrain, axis=1)\n",
    "y_train_casted = np.repeat(y_train.reshape(1, -1), X_trainNew.shape[0], axis=0)\n",
    "y_train_sorted = np.take_along_axis(y_train_casted, idxs, axis=1)\n",
    "y_train_topK = y_train_sorted[:, :k]\n",
    "\n",
    "y_test_pred = np.apply_along_axis(\n",
    "    lambda x: mode(x)[0],\n",
    "    axis = 1,\n",
    "    arr = y_train_topK\n",
    ")\n",
    "\n",
    "np.mean(y_test_pred == y_test)"
   ]
  },
  {
   "cell_type": "code",
   "execution_count": 16,
   "id": "45a9f37c-8934-4841-ad0b-6466972726cd",
   "metadata": {},
   "outputs": [
    {
     "data": {
      "image/png": "[encoded data removed]",
      "text/plain": [
       "<Figure size 1000x600 with 1 Axes>"
      ]
     },
     "metadata": {},
     "output_type": "display_data"
    }
   ],
   "source": [
    "# Initialize the accuracies list\n",
    "accuracies = []\n",
    "\n",
    "# Range of k values to test\n",
    "k_range = range(1, 20)\n",
    "\n",
    "for k in k_range:\n",
    "    X_trainNew = X_train_normalized[np.newaxis, :, :] - X_test_normalized[:, np.newaxis, :]\n",
    "    d_testTrain = np.sqrt(np.sum(np.power(X_trainNew, 2), axis=2))\n",
    "    \n",
    "    idxs = np.argsort(d_testTrain, axis=1)\n",
    "    y_train_casted = np.repeat(y_train.reshape(1, -1), X_trainNew.shape[0], axis=0)\n",
    "    y_train_sorted = np.take_along_axis(y_train_casted, idxs, axis=1)\n",
    "    y_train_topK = y_train_sorted[:, :k]\n",
    "    \n",
    "    y_test_pred = np.apply_along_axis(\n",
    "        lambda x: mode(x)[0],\n",
    "        axis = 1,\n",
    "        arr = y_train_topK\n",
    "    )\n",
    "    \n",
    "    # Compute the accuracy and append it to the accuracies list\n",
    "    accuracy = np.mean(y_test_pred == y_test)\n",
    "    accuracies.append(accuracy)\n",
    "\n",
    "# Plot accuracy vs. k\n",
    "plt.figure(figsize=(10, 6))\n",
    "plt.plot(k_range, accuracies, marker='o')\n",
    "plt.title('Accuracy vs. k for Vectorized KNN (Not class)')\n",
    "plt.xlabel('k')\n",
    "plt.ylabel('Accuracy')\n",
    "plt.xticks(k_range)  # Set x-axis ticks to natural numbers\n",
    "plt.grid(True)\n",
    "plt.show()"
   ]
  },
  {
   "cell_type": "markdown",
   "id": "4d650533-c9a7-4317-904b-803c109a5ac4",
   "metadata": {},
   "source": [
    "## Implementing the highly vectorized KNN in another class (for benchmarking purposes)"
   ]
  },
  {
   "cell_type": "code",
   "execution_count": 17,
   "id": "4913c9ff-feb5-442c-9449-05d2501a2bd3",
   "metadata": {},
   "outputs": [],
   "source": [
    "class VectorizedKNNClassifier:\n",
    "    def __init__(self, k=5):\n",
    "        self.k = k\n",
    "        self.X_train = None\n",
    "        self.y_train = None\n",
    "\n",
    "    def fit(self, X_train, y_train):\n",
    "        self._validate_input(X_train, y_train)\n",
    "        self.X_train = X_train\n",
    "        self.y_train = y_train\n",
    "\n",
    "    def predict(self, X_test):\n",
    "        self._validate_input(X_test, None)\n",
    "\n",
    "        X_trainNew = self.X_train[np.newaxis, :, :] - X_test[:, np.newaxis, :]\n",
    "        d_testTrain = np.sqrt(np.sum(np.power(X_trainNew, 2), axis=2))\n",
    "        idxs = np.argsort(d_testTrain, axis=1)\n",
    "\n",
    "        y_train_casted = np.repeat(self.y_train.reshape(1, -1), X_trainNew.shape[0], axis=0)\n",
    "        y_train_sorted = np.take_along_axis(y_train_casted, idxs, axis=1)\n",
    "        y_train_topK = y_train_sorted[:, :self.k]\n",
    "\n",
    "        y_test_pred = np.apply_along_axis(self._voting_func, axis=1, arr=y_train_topK)\n",
    "        return y_test_pred\n",
    "\n",
    "    def _validate_input(self, X, y=None):\n",
    "        if not isinstance(X, np.ndarray):\n",
    "            raise ValueError(\"Input data must be a NumPy array.\")\n",
    "        if y is not None and len(X) != len(y):\n",
    "            raise ValueError(\"Number of samples in X and y must be equal.\")\n",
    "\n",
    "    def _voting_func(self, x):\n",
    "        unique_labels, counts = np.unique(x, return_counts=True)\n",
    "        max_count = np.max(counts)\n",
    "        return unique_labels[np.argmax(counts)]"
   ]
  },
  {
   "cell_type": "code",
   "execution_count": 18,
   "id": "a9240059-2bfa-476f-ab46-1d2899c4fce1",
   "metadata": {},
   "outputs": [
    {
     "data": {
      "text/plain": [
       "0.9473684210526315"
      ]
     },
     "execution_count": 18,
     "metadata": {},
     "output_type": "execute_result"
    }
   ],
   "source": [
    "vectorizedKNN = VectorizedKNNClassifier(k=3)\n",
    "vectorizedKNN.fit(X_train_normalized, y_train)\n",
    "y_test_pred = vectorizedKNN.predict(X_test_normalized)\n",
    "np.mean(y_test == y_test_pred)"
   ]
  },
  {
   "cell_type": "code",
   "execution_count": 19,
   "id": "c10136eb-9367-490d-a37a-2797a135c49d",
   "metadata": {},
   "outputs": [
    {
     "data": {
      "image/png": "[encoded data removed]",
      "text/plain": [
       "<Figure size 1000x600 with 1 Axes>"
      ]
     },
     "metadata": {},
     "output_type": "display_data"
    }
   ],
   "source": [
    "# Initialize the accuracies list\n",
    "accuracies = []\n",
    "\n",
    "# Range of k values to test\n",
    "k_range = range(1, 20)\n",
    "\n",
    "for k in k_range:\n",
    "    vectorizedKNN = VectorizedKNNClassifier(k=k)\n",
    "    vectorizedKNN.fit(X_train_normalized, y_train)\n",
    "    y_pred = vectorizedKNN.predict(X_test_normalized)\n",
    "    \n",
    "    # Compute the accuracy and append it to the accuracies list\n",
    "    accuracy = np.mean(y_pred == y_test)\n",
    "    accuracies.append(accuracy)\n",
    "\n",
    "# Plot accuracy vs. k\n",
    "plt.figure(figsize=(10, 6))\n",
    "plt.plot(k_range, accuracies, marker='o')\n",
    "plt.title('Accuracy vs. k for VectorizedKNN')\n",
    "plt.xlabel('k')\n",
    "plt.ylabel('Accuracy')\n",
    "plt.xticks(k_range)  # Set x-axis ticks to natural numbers\n",
    "plt.grid(True)\n",
    "plt.show()"
   ]
  },
  {
   "cell_type": "markdown",
   "id": "dbcd0312-cbe2-4179-9c98-5a65b7e0774a",
   "metadata": {},
   "source": [
    "## Time Benchmarking"
   ]
  },
  {
   "cell_type": "code",
   "execution_count": 20,
   "id": "c5c5c453-b731-420f-b061-7f63637aa7a2",
   "metadata": {},
   "outputs": [],
   "source": [
    "k = 3\n",
    "vectorizedKNN = VectorizedKNNClassifier(k=k)\n",
    "vectorizedKNN.fit(X_train_normalized, y_train)\n",
    "KNNPredictor = MyKNN(\n",
    "    X_train=X_train_normalized,\n",
    "    y_train=y_train,\n",
    "    k=k\n",
    ")"
   ]
  },
  {
   "cell_type": "code",
   "execution_count": 21,
   "id": "be1d1366-5267-4c30-819e-781648ab99fc",
   "metadata": {},
   "outputs": [
    {
     "name": "stdout",
     "output_type": "stream",
     "text": [
      "KNNPredictor with for loop (k=3): \n",
      "12.7 ms ± 1.4 ms per loop (mean ± std. dev. of 7 runs, 10 loops each)\n",
      "Vectorized KNN (k=3): \n",
      "76.7 ms ± 2.92 ms per loop (mean ± std. dev. of 7 runs, 10 loops each)\n"
     ]
    }
   ],
   "source": [
    "print(f\"KNNPredictor with for loop (k={k}): \")\n",
    "%timeit -n 10 KNNPredictor.predict_dataset(X_test_normalized)\n",
    "\n",
    "print(f\"Vectorized KNN (k={k}): \")\n",
    "%timeit -n 10 vectorizedKNN.predict(X_test_normalized)"
   ]
  },
  {
   "cell_type": "code",
   "execution_count": 22,
   "id": "b0c723db-6915-41d6-9ebe-7d90c5fc3372",
   "metadata": {},
   "outputs": [],
   "source": [
    "k = 15\n",
    "vectorizedKNN = VectorizedKNNClassifier(k=k)\n",
    "vectorizedKNN.fit(X_train_normalized, y_train)\n",
    "KNNPredictor = MyKNN(\n",
    "    X_train=X_train_normalized,\n",
    "    y_train=y_train,\n",
    "    k=k\n",
    ")"
   ]
  },
  {
   "cell_type": "code",
   "execution_count": 23,
   "id": "b48b37ed-980d-4af3-96f5-299cec4622c9",
   "metadata": {},
   "outputs": [
    {
     "name": "stdout",
     "output_type": "stream",
     "text": [
      "KNNPredictor with for loop (k=15): \n",
      "10.9 ms ± 646 µs per loop (mean ± std. dev. of 7 runs, 10 loops each)\n",
      "Vectorized KNN (k=15): \n",
      "77.6 ms ± 2.21 ms per loop (mean ± std. dev. of 7 runs, 10 loops each)\n"
     ]
    }
   ],
   "source": [
    "print(f\"KNNPredictor with for loop (k={k}): \")\n",
    "%timeit -n 10 KNNPredictor.predict_dataset(X_test_normalized)\n",
    "\n",
    "print(f\"Vectorized KNN (k={k}): \")\n",
    "%timeit -n 10 vectorizedKNN.predict(X_test_normalized)"
   ]
  },
  {
   "cell_type": "markdown",
   "id": "feb96f96-5b7f-4d5d-a237-c25e3b43e371",
   "metadata": {},
   "source": [
    "#### So k is not really effective on this thing. Let's make the training dataset a lot bigger!"
   ]
  },
  {
   "cell_type": "code",
   "execution_count": 24,
   "id": "4fc4b8ca-9bda-45bd-96f1-13a0fce122d2",
   "metadata": {},
   "outputs": [],
   "source": [
    "k = 15\n",
    "X_rand = np.random.rand(5000, 30)\n",
    "y_rand = np.zeros((5000, 1))\n",
    "X_rand = np.divide(np.subtract(X_rand, X_rand.mean()), X_rand.std())\n",
    "X_rand_test = np.random.rand(50, 30)\n",
    "\n",
    "vectorizedKNN = VectorizedKNNClassifier(k=k)\n",
    "vectorizedKNN.fit(X_rand, y_rand)\n",
    "KNNPredictor = MyKNN(\n",
    "    X_train=X_rand,\n",
    "    y_train=y_rand,\n",
    "    k=k\n",
    ")"
   ]
  },
  {
   "cell_type": "code",
   "execution_count": 25,
   "id": "62fc2bfc-91ee-4f15-8d6f-9c01cbeb5717",
   "metadata": {},
   "outputs": [
    {
     "name": "stdout",
     "output_type": "stream",
     "text": [
      "KNNPredictor with for loop (k=15): \n",
      "80.7 ms ± 2.4 ms per loop (mean ± std. dev. of 7 runs, 10 loops each)\n",
      "Vectorized KNN (k=15): \n",
      "380 ms ± 21.1 ms per loop (mean ± std. dev. of 7 runs, 10 loops each)\n"
     ]
    }
   ],
   "source": [
    "print(f\"KNNPredictor with for loop (k={k}): \")\n",
    "%timeit -n 10 KNNPredictor.predict_dataset(X_rand_test)\n",
    "\n",
    "print(f\"Vectorized KNN (k={k}): \")\n",
    "%timeit -n 10 vectorizedKNN.predict(X_rand_test)"
   ]
  },
  {
   "cell_type": "markdown",
   "id": "faded2c5-32f6-46c8-94de-161311530698",
   "metadata": {},
   "source": [
    "#### And finally, more features"
   ]
  },
  {
   "cell_type": "code",
   "execution_count": 26,
   "id": "6aef1d12-eeaa-42a5-b3a0-0ebadc02a9ad",
   "metadata": {},
   "outputs": [
    {
     "data": {
      "text/plain": [
       "(114, 30)"
      ]
     },
     "execution_count": 26,
     "metadata": {},
     "output_type": "execute_result"
    }
   ],
   "source": [
    "X_test_normalized.shape"
   ]
  },
  {
   "cell_type": "code",
   "execution_count": 27,
   "id": "55d2caba-54df-46d0-8e1e-53d89910fc95",
   "metadata": {},
   "outputs": [
    {
     "name": "stdout",
     "output_type": "stream",
     "text": [
      "(500, 300) (120, 300) (500, 1)\n"
     ]
    }
   ],
   "source": [
    "k = 3\n",
    "X_rand = np.random.rand(500, 300)\n",
    "y_rand = np.zeros((500, 1))\n",
    "X_rand = np.divide(np.subtract(X_rand, X_rand.mean()), X_rand.std())\n",
    "X_rand_test = np.random.rand(120, 300)\n",
    "\n",
    "vectorizedKNN = VectorizedKNNClassifier(k=k)\n",
    "vectorizedKNN.fit(X_rand, y_rand)\n",
    "KNNPredictor = MyKNN(\n",
    "    X_train=X_rand,\n",
    "    y_train=y_rand,\n",
    "    k=k\n",
    ")"
   ]
  },
  {
   "cell_type": "code",
   "execution_count": 28,
   "id": "b1608a28-4e7c-43da-96db-9964aac3c2da",
   "metadata": {},
   "outputs": [
    {
     "name": "stdout",
     "output_type": "stream",
     "text": [
      "KNNPredictor with for loop (k=3): \n",
      "163 ms ± 16.9 ms per loop (mean ± std. dev. of 7 runs, 10 loops each)\n",
      "Vectorized KNN (k=3): \n",
      "836 ms ± 38.8 ms per loop (mean ± std. dev. of 7 runs, 10 loops each)\n"
     ]
    }
   ],
   "source": [
    "print(f\"KNNPredictor with for loop (k={k}): \")\n",
    "%timeit -n 10 KNNPredictor.predict_dataset(X_rand_test)\n",
    "\n",
    "print(f\"Vectorized KNN (k={k}): \")\n",
    "%timeit -n 10 vectorizedKNN.predict(X_rand_test)"
   ]
  },
  {
   "cell_type": "markdown",
   "id": "908f2ca2-bd19-48f5-99e8-3a5872f5bde7",
   "metadata": {},
   "source": [
    "#### How about more features, more samples in train and test, and a high k?"
   ]
  },
  {
   "cell_type": "code",
   "execution_count": 29,
   "id": "8448b5ef-e6af-4260-9ec9-1f77b216fb04",
   "metadata": {},
   "outputs": [],
   "source": [
    "k = 21\n",
    "X_rand = np.random.rand(5000, 300)\n",
    "y_rand = np.zeros((5000, 1))\n",
    "X_rand = np.divide(np.subtract(X_rand, X_rand.mean()), X_rand.std())\n",
    "X_rand_test = np.random.rand(1000, 300)\n",
    "\n",
    "vectorizedKNN = VectorizedKNNClassifier(k=k)\n",
    "vectorizedKNN.fit(X_rand, y_rand)\n",
    "KNNPredictor = MyKNN(\n",
    "    X_train=X_rand,\n",
    "    y_train=y_rand,\n",
    "    k=k\n",
    ")"
   ]
  },
  {
   "cell_type": "code",
   "execution_count": 31,
   "id": "9fd66731-19c4-46f0-9405-35aec8d651e4",
   "metadata": {},
   "outputs": [
    {
     "name": "stdout",
     "output_type": "stream",
     "text": [
      "KNNPredictor with for loop (k=21): \n",
      "15 s ± 1.88 s per loop (mean ± std. dev. of 7 runs, 1 loop each)\n",
      "Vectorized KNN (k=21): \n"
     ]
    },
    {
     "ename": "MemoryError",
     "evalue": "Unable to allocate 11.2 GiB for an array with shape (1000, 5000, 300) and data type float64",
     "output_type": "error",
     "traceback": [
      "\u001b[1;31m---------------------------------------------------------------------------\u001b[0m",
      "\u001b[1;31mMemoryError\u001b[0m                               Traceback (most recent call last)",
      "Cell \u001b[1;32mIn[31], line 5\u001b[0m\n\u001b[0;32m      2\u001b[0m get_ipython()\u001b[38;5;241m.\u001b[39mrun_line_magic(\u001b[38;5;124m'\u001b[39m\u001b[38;5;124mtimeit\u001b[39m\u001b[38;5;124m'\u001b[39m, \u001b[38;5;124m'\u001b[39m\u001b[38;5;124m-n 1 KNNPredictor.predict_dataset(X_rand_test)\u001b[39m\u001b[38;5;124m'\u001b[39m)\n\u001b[0;32m      4\u001b[0m \u001b[38;5;28mprint\u001b[39m(\u001b[38;5;124mf\u001b[39m\u001b[38;5;124m\"\u001b[39m\u001b[38;5;124mVectorized KNN (k=\u001b[39m\u001b[38;5;132;01m{\u001b[39;00mk\u001b[38;5;132;01m}\u001b[39;00m\u001b[38;5;124m): \u001b[39m\u001b[38;5;124m\"\u001b[39m)\n\u001b[1;32m----> 5\u001b[0m get_ipython()\u001b[38;5;241m.\u001b[39mrun_line_magic(\u001b[38;5;124m'\u001b[39m\u001b[38;5;124mtimeit\u001b[39m\u001b[38;5;124m'\u001b[39m, \u001b[38;5;124m'\u001b[39m\u001b[38;5;124m-n 1 vectorizedKNN.predict(X_rand_test)\u001b[39m\u001b[38;5;124m'\u001b[39m)\n",
      "File \u001b[1;32m~\\anaconda3\\Lib\\site-packages\\IPython\\core\\interactiveshell.py:2456\u001b[0m, in \u001b[0;36mInteractiveShell.run_line_magic\u001b[1;34m(self, magic_name, line, _stack_depth)\u001b[0m\n\u001b[0;32m   2454\u001b[0m     kwargs[\u001b[38;5;124m'\u001b[39m\u001b[38;5;124mlocal_ns\u001b[39m\u001b[38;5;124m'\u001b[39m] \u001b[38;5;241m=\u001b[39m \u001b[38;5;28mself\u001b[39m\u001b[38;5;241m.\u001b[39mget_local_scope(stack_depth)\n\u001b[0;32m   2455\u001b[0m \u001b[38;5;28;01mwith\u001b[39;00m \u001b[38;5;28mself\u001b[39m\u001b[38;5;241m.\u001b[39mbuiltin_trap:\n\u001b[1;32m-> 2456\u001b[0m     result \u001b[38;5;241m=\u001b[39m fn(\u001b[38;5;241m*\u001b[39margs, \u001b[38;5;241m*\u001b[39m\u001b[38;5;241m*\u001b[39mkwargs)\n\u001b[0;32m   2458\u001b[0m \u001b[38;5;66;03m# The code below prevents the output from being displayed\u001b[39;00m\n\u001b[0;32m   2459\u001b[0m \u001b[38;5;66;03m# when using magics with decorator @output_can_be_silenced\u001b[39;00m\n\u001b[0;32m   2460\u001b[0m \u001b[38;5;66;03m# when the last Python token in the expression is a ';'.\u001b[39;00m\n\u001b[0;32m   2461\u001b[0m \u001b[38;5;28;01mif\u001b[39;00m \u001b[38;5;28mgetattr\u001b[39m(fn, magic\u001b[38;5;241m.\u001b[39mMAGIC_OUTPUT_CAN_BE_SILENCED, \u001b[38;5;28;01mFalse\u001b[39;00m):\n",
      "File \u001b[1;32m~\\anaconda3\\Lib\\site-packages\\IPython\\core\\magics\\execution.py:1189\u001b[0m, in \u001b[0;36mExecutionMagics.timeit\u001b[1;34m(self, line, cell, local_ns)\u001b[0m\n\u001b[0;32m   1186\u001b[0m         \u001b[38;5;28;01mif\u001b[39;00m time_number \u001b[38;5;241m>\u001b[39m\u001b[38;5;241m=\u001b[39m \u001b[38;5;241m0.2\u001b[39m:\n\u001b[0;32m   1187\u001b[0m             \u001b[38;5;28;01mbreak\u001b[39;00m\n\u001b[1;32m-> 1189\u001b[0m all_runs \u001b[38;5;241m=\u001b[39m timer\u001b[38;5;241m.\u001b[39mrepeat(repeat, number)\n\u001b[0;32m   1190\u001b[0m best \u001b[38;5;241m=\u001b[39m \u001b[38;5;28mmin\u001b[39m(all_runs) \u001b[38;5;241m/\u001b[39m number\n\u001b[0;32m   1191\u001b[0m worst \u001b[38;5;241m=\u001b[39m \u001b[38;5;28mmax\u001b[39m(all_runs) \u001b[38;5;241m/\u001b[39m number\n",
      "File \u001b[1;32m~\\anaconda3\\Lib\\timeit.py:208\u001b[0m, in \u001b[0;36mTimer.repeat\u001b[1;34m(self, repeat, number)\u001b[0m\n\u001b[0;32m    206\u001b[0m r \u001b[38;5;241m=\u001b[39m []\n\u001b[0;32m    207\u001b[0m \u001b[38;5;28;01mfor\u001b[39;00m i \u001b[38;5;129;01min\u001b[39;00m \u001b[38;5;28mrange\u001b[39m(repeat):\n\u001b[1;32m--> 208\u001b[0m     t \u001b[38;5;241m=\u001b[39m \u001b[38;5;28mself\u001b[39m\u001b[38;5;241m.\u001b[39mtimeit(number)\n\u001b[0;32m    209\u001b[0m     r\u001b[38;5;241m.\u001b[39mappend(t)\n\u001b[0;32m    210\u001b[0m \u001b[38;5;28;01mreturn\u001b[39;00m r\n",
      "File \u001b[1;32m~\\anaconda3\\Lib\\site-packages\\IPython\\core\\magics\\execution.py:173\u001b[0m, in \u001b[0;36mTimer.timeit\u001b[1;34m(self, number)\u001b[0m\n\u001b[0;32m    171\u001b[0m gc\u001b[38;5;241m.\u001b[39mdisable()\n\u001b[0;32m    172\u001b[0m \u001b[38;5;28;01mtry\u001b[39;00m:\n\u001b[1;32m--> 173\u001b[0m     timing \u001b[38;5;241m=\u001b[39m \u001b[38;5;28mself\u001b[39m\u001b[38;5;241m.\u001b[39minner(it, \u001b[38;5;28mself\u001b[39m\u001b[38;5;241m.\u001b[39mtimer)\n\u001b[0;32m    174\u001b[0m \u001b[38;5;28;01mfinally\u001b[39;00m:\n\u001b[0;32m    175\u001b[0m     \u001b[38;5;28;01mif\u001b[39;00m gcold:\n",
      "File \u001b[1;32m<magic-timeit>:1\u001b[0m, in \u001b[0;36minner\u001b[1;34m(_it, _timer)\u001b[0m\n",
      "Cell \u001b[1;32mIn[17], line 16\u001b[0m, in \u001b[0;36mVectorizedKNNClassifier.predict\u001b[1;34m(self, X_test)\u001b[0m\n\u001b[0;32m     13\u001b[0m \u001b[38;5;28mself\u001b[39m\u001b[38;5;241m.\u001b[39m_validate_input(X_test, \u001b[38;5;28;01mNone\u001b[39;00m)\n\u001b[0;32m     15\u001b[0m X_trainNew \u001b[38;5;241m=\u001b[39m \u001b[38;5;28mself\u001b[39m\u001b[38;5;241m.\u001b[39mX_train[np\u001b[38;5;241m.\u001b[39mnewaxis, :, :] \u001b[38;5;241m-\u001b[39m X_test[:, np\u001b[38;5;241m.\u001b[39mnewaxis, :]\n\u001b[1;32m---> 16\u001b[0m d_testTrain \u001b[38;5;241m=\u001b[39m np\u001b[38;5;241m.\u001b[39msqrt(np\u001b[38;5;241m.\u001b[39msum(np\u001b[38;5;241m.\u001b[39mpower(X_trainNew, \u001b[38;5;241m2\u001b[39m), axis\u001b[38;5;241m=\u001b[39m\u001b[38;5;241m2\u001b[39m))\n\u001b[0;32m     17\u001b[0m idxs \u001b[38;5;241m=\u001b[39m np\u001b[38;5;241m.\u001b[39margsort(d_testTrain, axis\u001b[38;5;241m=\u001b[39m\u001b[38;5;241m1\u001b[39m)\n\u001b[0;32m     19\u001b[0m y_train_casted \u001b[38;5;241m=\u001b[39m np\u001b[38;5;241m.\u001b[39mrepeat(\u001b[38;5;28mself\u001b[39m\u001b[38;5;241m.\u001b[39my_train\u001b[38;5;241m.\u001b[39mreshape(\u001b[38;5;241m1\u001b[39m, \u001b[38;5;241m-\u001b[39m\u001b[38;5;241m1\u001b[39m), X_trainNew\u001b[38;5;241m.\u001b[39mshape[\u001b[38;5;241m0\u001b[39m], axis\u001b[38;5;241m=\u001b[39m\u001b[38;5;241m0\u001b[39m)\n",
      "\u001b[1;31mMemoryError\u001b[0m: Unable to allocate 11.2 GiB for an array with shape (1000, 5000, 300) and data type float64"
     ]
    }
   ],
   "source": [
    "print(f\"KNNPredictor with for loop (k={k}): \")\n",
    "%timeit -n 1 KNNPredictor.predict_dataset(X_rand_test)\n",
    "\n",
    "print(f\"Vectorized KNN (k={k}): \")\n",
    "%timeit -n 1 vectorizedKNN.predict(X_rand_test)"
   ]
  },
  {
   "cell_type": "markdown",
   "id": "9ac83fdf-4c7f-4f4b-9118-53cf62490404",
   "metadata": {},
   "source": [
    "And that's it! A complete benchmarking for differenct types of implementations for the KNN from scratch! (I even managed to crash the memory so YAY!"
   ]
  }
 ],
 "metadata": {
  "kernelspec": {
   "display_name": "Python 3 (ipykernel)",
   "language": "python",
   "name": "python3"
  },
  "language_info": {
   "codemirror_mode": {
    "name": "ipython",
    "version": 3
   },
   "file_extension": ".py",
   "mimetype": "text/x-python",
   "name": "python",
   "nbconvert_exporter": "python",
   "pygments_lexer": "ipython3",
   "version": "3.11.7"
  }
 },
 "nbformat": 4,
 "nbformat_minor": 5
}
