{
 "cells": [
  {
   "cell_type": "markdown",
   "id": "018b626d-5cd4-4745-9d6c-5aaa57aa313e",
   "metadata": {},
   "source": [
    "# K-Nearest Neighbours (KNN) from scratch!"
   ]
  },
  {
   "cell_type": "markdown",
   "id": "014b8f51-9a0d-4445-8bb7-ad957db7cf59",
   "metadata": {},
   "source": [
    "Given:\n",
    "    \n",
    "    X: a numpy array of shape mxn, m being the number of rows and n being the number of features\n",
    "    Y: Y of shape mx1 (which is not needed for PCA"
   ]
  },
  {
   "cell_type": "code",
   "execution_count": 1,
   "id": "c689a654-a090-4181-9adf-2df497813481",
   "metadata": {},
   "outputs": [],
   "source": [
    "from sklearn.datasets import load_breast_cancer\n",
    "import numpy as np\n",
    "import matplotlib.pyplot as plt\n",
    "import pandas as pd\n",
    "from sklearn.model_selection import train_test_split\n",
    "from sklearn.neighbors import KNeighborsClassifier\n",
    "\n",
    "# Load the breast cancer dataset\n",
    "cancer = load_breast_cancer()\n",
    "X_cancer = cancer['data']\n",
    "y_cancer = cancer['target']\n",
    "\n",
    "# Split the data into training and testing sets\n",
    "X_train, X_test, y_train, y_test = train_test_split(X_cancer, y_cancer, test_size=0.2, random_state=42)\n",
    "\n",
    "X_train_mu = np.mean(X_train, axis=0)\n",
    "X_train_std = np.std(X_train, axis=0)\n",
    "X_train_normalized = (X_train - X_train_mu) / X_train_std\n",
    "X_test_normalized = (X_test - X_train_mu ) / X_train_std"
   ]
  },
  {
   "cell_type": "markdown",
   "id": "0bd9b471-e053-4eed-a8e0-79ffcd9e4793",
   "metadata": {},
   "source": [
    "### First, we have to calculate the distance between the data point and each data point in our training corpus.\n",
    "### There are multiple distance measures:\n",
    "\n",
    "#### Euclidean:\n",
    "$$\n",
    "d(p,q) = \\sqrt{\\sum_{i=1}^{n}{(q_i - p_i)^2}}\n",
    "$$"
   ]
  },
  {
   "cell_type": "code",
   "execution_count": 2,
   "id": "5a4c953c-47ed-425a-8f66-49fb5b3b6867",
   "metadata": {},
   "outputs": [],
   "source": [
    "def euclidean_0(p, q):\n",
    "    # p and q are both of shape 1, n\n",
    "    total = 0\n",
    "    for i in range(len(p)):\n",
    "        total += (p[i] - q[i]) ** 2\n",
    "    return total\n",
    "\n",
    "def euclidean_1(p, q):\n",
    "    # p and q are both of shape 1, n\n",
    "    p, q = np.array(p), np.array(q)\n",
    "    return np.sqrt(np.sum((p - q) ** 2))\n",
    "\n",
    "def euclidean_2(X, q):\n",
    "    # X is of shape m, n and q is of shape 1, n\n",
    "    if X.ndim > 2:\n",
    "        raise ValueError(\"X has more than 2 dimensions.\")\n",
    "    q = q.reshape(1, -1)\n",
    "    m, n = X.shape\n",
    "    Q = np.repeat(q, m, axis=0) # now has shape m, n; works even without this line\n",
    "    dist = np.sqrt(np.sum((X - Q) ** 2, axis=1))\n",
    "    return dist.reshape(-1, 1) # returns shape m, 1\n",
    "\n",
    "def euclidean_3(X, q):\n",
    "    \"\"\"\n",
    "    Compute the Euclidean distance between each row of a 2-D array and a 1-D point.\n",
    "    \n",
    "    Parameters:\n",
    "    X : 2-D array of shape (m, n)\n",
    "    q : 1-D array of shape (n,)\n",
    "    \n",
    "    Returns:\n",
    "    dist : 1-D array of shape (m,)\n",
    "        The Euclidean distance between each row of X and q.\n",
    "    \"\"\"\n",
    "    if X.ndim > 2:\n",
    "        raise ValueError(\"X has more than 2 dimensions.\")\n",
    "    return np.sqrt(np.sum((X - q) ** 2, axis=1))"
   ]
  },
  {
   "cell_type": "code",
   "execution_count": 3,
   "id": "f3948556-0a32-420a-a36f-0717e829ef5c",
   "metadata": {},
   "outputs": [
    {
     "name": "stdout",
     "output_type": "stream",
     "text": [
      "Testing euclidean_0...\n",
      "49.2 ms ± 7.9 ms per loop (mean ± std. dev. of 7 runs, 100 loops each)\n",
      "\n",
      "Testing euclidean_1...\n",
      "13.3 ms ± 892 µs per loop (mean ± std. dev. of 7 runs, 100 loops each)\n",
      "\n",
      "Testing euclidean_2...\n",
      "236 µs ± 46.8 µs per loop (mean ± std. dev. of 7 runs, 100 loops each)\n",
      "\n",
      "Testing euclidean_3...\n",
      "170 µs ± 45.6 µs per loop (mean ± std. dev. of 7 runs, 100 loops each)\n"
     ]
    }
   ],
   "source": [
    "# Define test data\n",
    "p = np.random.rand(50)\n",
    "q = np.random.rand(50)\n",
    "X = np.random.rand(1000, 50)\n",
    "\n",
    "# Test euclidean_0\n",
    "print(\"Testing euclidean_0...\")\n",
    "%timeit -n 100 [euclidean_0(x, q) for x in X]\n",
    "\n",
    "# Test euclidean_1\n",
    "print(\"\\nTesting euclidean_1...\")\n",
    "%timeit -n 100 [euclidean_1(x, q) for x in X]\n",
    "\n",
    "# Test euclidean_2\n",
    "print(\"\\nTesting euclidean_2...\")\n",
    "%timeit -n 100 euclidean_2(X, q)\n",
    "\n",
    "# Test euclidean_3\n",
    "print(\"\\nTesting euclidean_3...\")\n",
    "%timeit -n 100 euclidean_3(X, q)"
   ]
  },
  {
   "cell_type": "markdown",
   "id": "5cde5cd3-324f-4bc4-bb7c-9c343b8e511c",
   "metadata": {},
   "source": [
    "#### Manhattan:\n",
    "$$\n",
    "d(p,q) = \\sum_{i=1}^{n}{|p_i - q_i|}\n",
    "$$"
   ]
  },
  {
   "cell_type": "code",
   "execution_count": 4,
   "id": "18a03b27-7317-4773-87f4-4aba1c56143c",
   "metadata": {},
   "outputs": [],
   "source": [
    "def manhattan_0(p, q):\n",
    "    total = 0\n",
    "    for i in range(len(p)):\n",
    "        total += abs(p[i] - q[i])\n",
    "    return total\n",
    "\n",
    "def manhattan_1(p, q):\n",
    "    p, q = np.array(p), np.array(q)\n",
    "    return np.sum(np.abs(p - q))\n",
    "\n",
    "def manhattan_2(X, q):\n",
    "    if X.ndim > 2:\n",
    "        raise ValueError(\"X has more than 2 dimensions.\")\n",
    "    m, n = X.shape\n",
    "    q = q.reshape(1, -1)\n",
    "    Q = np.repeat(q, m, axis=0)\n",
    "    dist = np.sum(np.abs(X - Q), axis=1)\n",
    "    return dist.reshape(-1, 1)\n",
    "\n",
    "def manhattan_3(X, q):\n",
    "    \"\"\"\n",
    "    Compute the Manhattan distance between each row of a 2-D array and a 1-D point.\n",
    "    \n",
    "    Parameters:\n",
    "    X : 2-D array of shape (m, n)\n",
    "    q : 1-D array of shape (n,)\n",
    "    \n",
    "    Returns:\n",
    "    dist : 1-D array of shape (m,)\n",
    "        The Manhattan distance between each row of X and q.\n",
    "    \"\"\"\n",
    "    if X.ndim > 2:\n",
    "        raise ValueError(\"X has more than 2 dimensions.\")\n",
    "    return np.sum(np.abs(X - q), axis=1)"
   ]
  },
  {
   "cell_type": "code",
   "execution_count": 5,
   "id": "c76dfc08-928c-4ab4-892d-5838256cda51",
   "metadata": {},
   "outputs": [
    {
     "name": "stdout",
     "output_type": "stream",
     "text": [
      "Testing manhattan_0...\n",
      "26.6 ms ± 752 µs per loop (mean ± std. dev. of 7 runs, 100 loops each)\n",
      "\n",
      "Testing manhattan_1...\n",
      "10.9 ms ± 1.99 ms per loop (mean ± std. dev. of 7 runs, 100 loops each)\n",
      "\n",
      "Testing manhattan_2...\n",
      "159 µs ± 11 µs per loop (mean ± std. dev. of 7 runs, 100 loops each)\n",
      "\n",
      "Testing manhattan_3...\n",
      "144 µs ± 11.6 µs per loop (mean ± std. dev. of 7 runs, 100 loops each)\n"
     ]
    }
   ],
   "source": [
    "# Test manhattan_0\n",
    "print(\"Testing manhattan_0...\")\n",
    "%timeit -n 100 [manhattan_0(x, q) for x in X]\n",
    "\n",
    "# Test manhattan_1\n",
    "print(\"\\nTesting manhattan_1...\")\n",
    "%timeit -n 100 [manhattan_1(x, q) for x in X]\n",
    "\n",
    "# Test manhattan_2\n",
    "print(\"\\nTesting manhattan_2...\")\n",
    "%timeit -n 100 manhattan_2(X, q)\n",
    "\n",
    "# Test manhattan_3\n",
    "print(\"\\nTesting manhattan_3...\")\n",
    "%timeit -n 100 manhattan_3(X, q)"
   ]
  },
  {
   "cell_type": "markdown",
   "id": "e5d67ba8-2aa3-40c9-b0f1-f9b883455194",
   "metadata": {},
   "source": [
    "#### Minkowski:\n",
    "$$\n",
    "d(p,q) = (\\sum_{i=1}^{n}{(q_i - p_i)^n})^\\frac{1}{n}\n",
    "$$"
   ]
  },
  {
   "cell_type": "code",
   "execution_count": 6,
   "id": "e40eb650-6f3d-45bf-b973-52df75b1622b",
   "metadata": {},
   "outputs": [],
   "source": [
    "def minkowski_0(p, q, n):\n",
    "    total = 0.0\n",
    "    for i in range(len(p)):\n",
    "        total += (p[i] - q[i]) ** n\n",
    "    return total ** (1 / n)\n",
    "\n",
    "def minkowski_1(p, q, n):\n",
    "    p, q = np.array(p), np.array(q)\n",
    "    return np.power(np.sum(np.power(p - q, n)), 1/n)\n",
    "\n",
    "def minkowski_2(X, q, n):\n",
    "    if X.ndim > 2:\n",
    "        raise ValueError(\"X has more than 2 dimensions.\")\n",
    "    m, _ = X.shape\n",
    "    q = q.reshape(1, -1)\n",
    "    Q = np.repeat(q, m, axis=0)\n",
    "    dist = np.sum(np.power(X - Q, n), axis=1)\n",
    "    return np.power(dist, 1/n).reshape(-1, 1)\n",
    "\n",
    "def minkowski_3(X, q, n):\n",
    "    \"\"\"\n",
    "    Compute the Minkowski distance between each row of a 2-D array and a 1-D point.\n",
    "    \n",
    "    Parameters:\n",
    "    X : 2-D array of shape (m, n)\n",
    "    q : 1-D array of shape (n,)\n",
    "    n : Minkowski_n\n",
    "    \n",
    "    Returns:\n",
    "    dist : 1-D array of shape (m,)\n",
    "        The Minkowski_n distance between each row of X and q.\n",
    "    \"\"\"\n",
    "    if X.ndim > 2:\n",
    "        raise ValueError(\"X has more than 2 dimensions.\")\n",
    "    return np.power(np.sum(np.power((X - q), n), axis=1), 1/n)"
   ]
  },
  {
   "cell_type": "code",
   "execution_count": 7,
   "id": "086ebc13-fe60-4a9f-91f8-2425a94226c2",
   "metadata": {},
   "outputs": [
    {
     "name": "stdout",
     "output_type": "stream",
     "text": [
      "Testing minkowski_0...\n"
     ]
    },
    {
     "name": "stderr",
     "output_type": "stream",
     "text": [
      "C:\\Users\\moham\\AppData\\Local\\Temp\\ipykernel_11956\\3387198962.py:5: RuntimeWarning: invalid value encountered in scalar power\n",
      "  return total ** (1 / n)\n"
     ]
    },
    {
     "name": "stdout",
     "output_type": "stream",
     "text": [
      "35.4 ms ± 1.73 ms per loop (mean ± std. dev. of 7 runs, 100 loops each)\n",
      "\n",
      "Testing minkowski_1...\n"
     ]
    },
    {
     "name": "stderr",
     "output_type": "stream",
     "text": [
      "C:\\Users\\moham\\AppData\\Local\\Temp\\ipykernel_11956\\3387198962.py:9: RuntimeWarning: invalid value encountered in power\n",
      "  return np.power(np.sum(np.power(p - q, n)), 1/n)\n"
     ]
    },
    {
     "name": "stdout",
     "output_type": "stream",
     "text": [
      "25.3 ms ± 4.46 ms per loop (mean ± std. dev. of 7 runs, 100 loops each)\n",
      "\n",
      "Testing minkowski_2...\n"
     ]
    },
    {
     "name": "stderr",
     "output_type": "stream",
     "text": [
      "C:\\Users\\moham\\AppData\\Local\\Temp\\ipykernel_11956\\3387198962.py:18: RuntimeWarning: invalid value encountered in power\n",
      "  return np.power(dist, 1/n).reshape(-1, 1)\n"
     ]
    },
    {
     "name": "stdout",
     "output_type": "stream",
     "text": [
      "2.81 ms ± 69.8 µs per loop (mean ± std. dev. of 7 runs, 100 loops each)\n",
      "\n",
      "Testing minkowski_3...\n"
     ]
    },
    {
     "name": "stderr",
     "output_type": "stream",
     "text": [
      "C:\\Users\\moham\\AppData\\Local\\Temp\\ipykernel_11956\\3387198962.py:35: RuntimeWarning: invalid value encountered in power\n",
      "  return np.power(np.sum(np.power((X - q), n), axis=1), 1/n)\n"
     ]
    },
    {
     "name": "stdout",
     "output_type": "stream",
     "text": [
      "2.84 ms ± 65.5 µs per loop (mean ± std. dev. of 7 runs, 100 loops each)\n"
     ]
    }
   ],
   "source": [
    "n = 5\n",
    "# Test minkowski_0\n",
    "print(\"Testing minkowski_0...\")\n",
    "%timeit -n 100 [minkowski_0(x, q, n) for x in X]\n",
    "\n",
    "# Test minkowski_1\n",
    "print(\"\\nTesting minkowski_1...\")\n",
    "%timeit -n 100 [minkowski_1(x, q, n) for x in X]\n",
    "\n",
    "# Test minkowski_2\n",
    "print(\"\\nTesting minkowski_2...\")\n",
    "%timeit -n 100 minkowski_2(X, q, n)\n",
    "\n",
    "# Test minkowski_3\n",
    "print(\"\\nTesting minkowski_3...\")\n",
    "%timeit -n 100 minkowski_3(X, q, n)"
   ]
  },
  {
   "cell_type": "markdown",
   "id": "d227d6ad-d5c6-40cb-8ab4-931fe35f8e3c",
   "metadata": {},
   "source": [
    "## Getting the top K neighbours"
   ]
  },
  {
   "cell_type": "code",
   "execution_count": 8,
   "id": "76c52c0c-0c40-4972-b150-6ccbf98af554",
   "metadata": {},
   "outputs": [
    {
     "data": {
      "text/plain": [
       "(array([0, 1]), array([2, 1], dtype=int64))"
      ]
     },
     "execution_count": 8,
     "metadata": {},
     "output_type": "execute_result"
    }
   ],
   "source": [
    "k = 3 # for KNN\n",
    "idx = 18\n",
    "sample = X_test_normalized[idx]\n",
    "\n",
    "\n",
    "distance_sample = euclidean_3(X_train_normalized, sample)\n",
    "_idx = np.argsort(-distance_sample)\n",
    "y_train_sorted = y_train[_idx]\n",
    "y_train_neighbours = y_train_sorted[:k]\n",
    "\n",
    "unique_labels, counts = np.unique(y_train_neighbours, return_counts=True)\n",
    "unique_labels, counts"
   ]
  },
  {
   "cell_type": "code",
   "execution_count": 9,
   "id": "bc05e7da-0d5a-45a5-a51b-2970a4e653eb",
   "metadata": {},
   "outputs": [
    {
     "data": {
      "text/plain": [
       "(0, 1)"
      ]
     },
     "execution_count": 9,
     "metadata": {},
     "output_type": "execute_result"
    }
   ],
   "source": [
    "most_common_label = unique_labels[np.argmax(counts)]\n",
    "most_common_label, y_test[idx]"
   ]
  },
  {
   "cell_type": "markdown",
   "id": "0d37d275-ec29-4c6b-9ff9-3bc612eee9c6",
   "metadata": {},
   "source": [
    "## Implementing MyKNN class from scratch"
   ]
  },
  {
   "cell_type": "code",
   "execution_count": 10,
   "id": "fcbeca47-3143-4af1-8916-3f4e1259ab17",
   "metadata": {},
   "outputs": [],
   "source": [
    "class MyKNN():\n",
    "    def __init__(self, X_train, y_train, k=3):\n",
    "        self.k = k\n",
    "        self.X_train = X_train\n",
    "        self.y_train = y_train\n",
    "        self.distances = None\n",
    "        \n",
    "    def get_distance(self, X, sample, type='euclidean', n=None):\n",
    "        if type == 'euclidean':\n",
    "            self.distances = self._euclidean(X, sample)\n",
    "        elif type == 'minkowski':\n",
    "            if n == None:\n",
    "                raise ValueError(\"n cannot be None. Need to input a correct n\")\n",
    "            self.distances = self._minkowski(X, sample, n)\n",
    "        elif type == 'manhattan':\n",
    "            self.distances = self._manhattan(X, sample)\n",
    "        else:\n",
    "            raise ValueError('This distance measure has not been implemented yet')\n",
    "        \n",
    "    def _euclidean(self, X, sample):\n",
    "        \"\"\"\n",
    "        Compute the Euclidean distance between each row of a 2-D array and a 1-D point.\n",
    "        \n",
    "        Parameters:\n",
    "        X : 2-D array of shape (m, n)\n",
    "        q : 1-D array of shape (n,)\n",
    "        \n",
    "        Returns:\n",
    "        dist : 1-D array of shape (m,)\n",
    "            The Euclidean distance between each row of X and q.\n",
    "        \"\"\"\n",
    "        if X.ndim > 2:\n",
    "            raise ValueError(\"X has more than 2 dimensions.\")\n",
    "        return np.sqrt(np.sum((X - sample) ** 2, axis=1))\n",
    "        \n",
    "    def _minkowski(self, X, sample, n):\n",
    "        \"\"\"\n",
    "        Compute the Minkowski distance between each row of a 2-D array and a 1-D point.\n",
    "        \n",
    "        Parameters:\n",
    "        X : 2-D array of shape (m, n)\n",
    "        q : 1-D array of shape (n,)\n",
    "        n : Minkowski_n\n",
    "        \n",
    "        Returns:\n",
    "        dist : 1-D array of shape (m,)\n",
    "            The Minkowski_n distance between each row of X and q.\n",
    "        \"\"\"\n",
    "        if X.ndim > 2:\n",
    "            raise ValueError(\"X has more than 2 dimensions.\")\n",
    "        return np.power(\n",
    "            np.sum(\n",
    "                np.power(\n",
    "                    (X - q), n), axis=1\n",
    "            ), 1/n\n",
    "        )\n",
    "        \n",
    "    def _manhattan(self, X, sample):\n",
    "        \"\"\"\n",
    "        Compute the Manhattan distance between each row of a 2-D array and a 1-D point.\n",
    "        \n",
    "        Parameters:\n",
    "        X : 2-D array of shape (m, n)\n",
    "        q : 1-D array of shape (n,)\n",
    "        \n",
    "        Returns:\n",
    "        dist : 1-D array of shape (m,)\n",
    "            The Manhattan distance between each row of X and q.\n",
    "        \"\"\"\n",
    "        if X.ndim > 2:\n",
    "            raise ValueError(\"X has more than 2 dimensions.\")\n",
    "        return np.sum(np.abs(X - sample), axis=1)\n",
    "\n",
    "    def predict_sample(self, sample, type='euclidean', n=None):\n",
    "        self.get_distance(self.X_train, sample, type=type, n=n)\n",
    "        _idx = np.argsort(self.distances)\n",
    "        y_train_sorted = self.y_train[_idx]\n",
    "        y_train_neighbours = y_train_sorted[:self.k]\n",
    "        unique_labels, counts = np.unique(y_train_neighbours, return_counts=True)\n",
    "        return unique_labels[np.argmax(counts)]\n",
    "        \n",
    "    def predict_dataset(self, dataset, type='euclidean', n=None):\n",
    "        return np.array([\n",
    "            self.predict_sample(x, type=type, n=n) for x in dataset\n",
    "        ])"
   ]
  },
  {
   "cell_type": "code",
   "execution_count": 12,
   "id": "7c0b84fb-8d5c-4007-8fe1-f316b1b0ea67",
   "metadata": {},
   "outputs": [
    {
     "name": "stdout",
     "output_type": "stream",
     "text": [
      "Accuracy is: 0.9473684210526315\n"
     ]
    }
   ],
   "source": [
    "KNNPredictor = MyKNN(\n",
    "    X_train=X_train_normalized,\n",
    "    y_train=y_train,\n",
    "    k=3\n",
    ")\n",
    "y_pred = KNNPredictor.predict_dataset(X_test_normalized)\n",
    "accuracy = np.mean(y_pred == y_test)\n",
    "print(f\"Accuracy is: {accuracy}\")"
   ]
  },
  {
   "cell_type": "markdown",
   "id": "f077c183-7ae8-493f-a614-681a82f73bcc",
   "metadata": {},
   "source": [
    "### Testing the Elbow"
   ]
  },
  {
   "cell_type": "code",
   "execution_count": 13,
   "id": "236e3b66-b4ae-4ddb-b85b-cfb48176a3e5",
   "metadata": {},
   "outputs": [],
   "source": [
    "accuracies = []\n",
    "k_range = range(1, 20)\n",
    "for k in k_range:\n",
    "    KNNPredictor = MyKNN(\n",
    "        X_train=X_train_normalized,\n",
    "        y_train=y_train,\n",
    "        k=k\n",
    "    )\n",
    "    y_pred = KNNPredictor.predict_dataset(X_test_normalized)\n",
    "    accuracy = np.mean(y_pred == y_test)\n",
    "    accuracies.append(accuracy)"
   ]
  },
  {
   "cell_type": "code",
   "execution_count": 14,
   "id": "d168411c-fa81-40f5-a58c-c240a889c0c7",
   "metadata": {},
   "outputs": [
    {
     "data": {
      "image/png": "[encoded data removed]",
      "text/plain": [
       "<Figure size 1000x600 with 1 Axes>"
      ]
     },
     "metadata": {},
     "output_type": "display_data"
    }
   ],
   "source": [
    "# Plotting code...\n",
    "plt.figure(figsize=(10, 6))\n",
    "plt.plot(k_range, accuracies, marker='o')\n",
    "plt.title('Accuracy vs. k for KNN')\n",
    "plt.xlabel('k')\n",
    "plt.ylabel('Accuracy')\n",
    "plt.xticks(k_range)\n",
    "plt.grid(True)\n",
    "plt.show()"
   ]
  },
  {
   "cell_type": "markdown",
   "id": "bf22d28e-4bcc-446c-bd32-d319d2361cc4",
   "metadata": {},
   "source": [
    "### Comparing against Sklearn's values"
   ]
  },
  {
   "cell_type": "code",
   "execution_count": 15,
   "id": "d84d6d3a-4640-4bb8-b501-f09e4bca37a6",
   "metadata": {},
   "outputs": [
    {
     "data": {
      "image/png": "[encoded data removed]",
      "text/plain": [
       "<Figure size 1000x600 with 1 Axes>"
      ]
     },
     "metadata": {},
     "output_type": "display_data"
    }
   ],
   "source": [
    "# Initialize the accuracies list\n",
    "accuracies = []\n",
    "\n",
    "# Range of k values to test\n",
    "k_range = range(1, 20)\n",
    "\n",
    "for k in k_range:\n",
    "    # Create a KNeighborsClassifier instance with the current k value\n",
    "    knn = KNeighborsClassifier(n_neighbors=k)\n",
    "    \n",
    "    # Fit the classifier to the training data\n",
    "    knn.fit(X_train_normalized, y_train)\n",
    "    \n",
    "    # Predict the labels for the test data\n",
    "    y_pred = knn.predict(X_test_normalized)\n",
    "    \n",
    "    # Compute the accuracy and append it to the accuracies list\n",
    "    accuracy = np.mean(y_pred == y_test)\n",
    "    accuracies.append(accuracy)\n",
    "\n",
    "# Plot accuracy vs. k\n",
    "plt.figure(figsize=(10, 6))\n",
    "plt.plot(k_range, accuracies, marker='o')\n",
    "plt.title('Accuracy vs. k for KNN (sklearn)')\n",
    "plt.xlabel('k')\n",
    "plt.ylabel('Accuracy')\n",
    "plt.xticks(k_range)  # Set x-axis ticks to natural numbers\n",
    "plt.grid(True)\n",
    "plt.show()"
   ]
  },
  {
   "cell_type": "markdown",
   "id": "5a3f2c4a-a8b2-424e-9b5f-b9e02f9f0545",
   "metadata": {},
   "source": [
    "## Adding another dimension to the vector to vectorize the whole thing"
   ]
  },
  {
   "cell_type": "code",
   "execution_count": 16,
   "id": "4913c9ff-feb5-442c-9449-05d2501a2bd3",
   "metadata": {},
   "outputs": [],
   "source": [
    "class VectorizedKNN():\n",
    "    pass                    \n"
   ]
  }
 ],
 "metadata": {
  "kernelspec": {
   "display_name": "Python 3 (ipykernel)",
   "language": "python",
   "name": "python3"
  },
  "language_info": {
   "codemirror_mode": {
    "name": "ipython",
    "version": 3
   },
   "file_extension": ".py",
   "mimetype": "text/x-python",
   "name": "python",
   "nbconvert_exporter": "python",
   "pygments_lexer": "ipython3",
   "version": "3.11.7"
  }
 },
 "nbformat": 4,
 "nbformat_minor": 5
}
